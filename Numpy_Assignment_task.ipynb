{
  "cells": [
    {
      "cell_type": "markdown",
      "metadata": {
        "id": "view-in-github",
        "colab_type": "text"
      },
      "source": [
        "<a href=\"https://colab.research.google.com/github/Dhayanshariff/Numpy-Task/blob/main/Numpy_Assignment_task.ipynb\" target=\"_parent\"><img src=\"https://colab.research.google.com/assets/colab-badge.svg\" alt=\"Open In Colab\"/></a>"
      ]
    },
    {
      "cell_type": "markdown",
      "metadata": {
        "id": "-tA2xAP9qJZ4"
      },
      "source": [
        "# Numpy\n",
        "\n"
      ]
    },
    {
      "cell_type": "markdown",
      "metadata": {
        "id": "vm2SVx8JqJaM"
      },
      "source": [
        "#### 1. Import the numpy package under the name `np` (★☆☆) \n",
        "(**hint**: import … as …)"
      ]
    },
    {
      "cell_type": "code",
      "execution_count": 2,
      "metadata": {
        "collapsed": true,
        "id": "TOXUWl40qJaP"
      },
      "outputs": [],
      "source": [
        "import numpy as np"
      ]
    },
    {
      "cell_type": "markdown",
      "metadata": {
        "id": "hWHBGd5mqJaR"
      },
      "source": [
        "#### 2. Print the numpy version and the configuration (★☆☆) \n",
        "(**hint**: np.\\_\\_version\\_\\_, np.show\\_config)"
      ]
    },
    {
      "cell_type": "code",
      "execution_count": null,
      "metadata": {
        "id": "xmffoY4cqJaT",
        "colab": {
          "base_uri": "https://localhost:8080/",
          "height": 35
        },
        "outputId": "0f09f718-5326-45d1-9bac-c139a7d043da"
      },
      "outputs": [
        {
          "output_type": "execute_result",
          "data": {
            "text/plain": [
              "'1.21.6'"
            ],
            "application/vnd.google.colaboratory.intrinsic+json": {
              "type": "string"
            }
          },
          "metadata": {},
          "execution_count": 4
        }
      ],
      "source": [
        "np.__version__"
      ]
    },
    {
      "cell_type": "code",
      "source": [
        "np.show_config()"
      ],
      "metadata": {
        "colab": {
          "base_uri": "https://localhost:8080/"
        },
        "id": "xIEB3hdFs2PQ",
        "outputId": "9032ea57-1e1c-4c4a-eec5-00fbcd9e0971"
      },
      "execution_count": null,
      "outputs": [
        {
          "output_type": "stream",
          "name": "stdout",
          "text": [
            "blas_mkl_info:\n",
            "  NOT AVAILABLE\n",
            "blis_info:\n",
            "  NOT AVAILABLE\n",
            "openblas_info:\n",
            "    libraries = ['openblas', 'openblas']\n",
            "    library_dirs = ['/usr/local/lib']\n",
            "    language = c\n",
            "    define_macros = [('HAVE_CBLAS', None)]\n",
            "    runtime_library_dirs = ['/usr/local/lib']\n",
            "blas_opt_info:\n",
            "    libraries = ['openblas', 'openblas']\n",
            "    library_dirs = ['/usr/local/lib']\n",
            "    language = c\n",
            "    define_macros = [('HAVE_CBLAS', None)]\n",
            "    runtime_library_dirs = ['/usr/local/lib']\n",
            "lapack_mkl_info:\n",
            "  NOT AVAILABLE\n",
            "openblas_lapack_info:\n",
            "    libraries = ['openblas', 'openblas']\n",
            "    library_dirs = ['/usr/local/lib']\n",
            "    language = c\n",
            "    define_macros = [('HAVE_CBLAS', None)]\n",
            "    runtime_library_dirs = ['/usr/local/lib']\n",
            "lapack_opt_info:\n",
            "    libraries = ['openblas', 'openblas']\n",
            "    library_dirs = ['/usr/local/lib']\n",
            "    language = c\n",
            "    define_macros = [('HAVE_CBLAS', None)]\n",
            "    runtime_library_dirs = ['/usr/local/lib']\n",
            "Supported SIMD extensions in this NumPy install:\n",
            "    baseline = SSE,SSE2,SSE3\n",
            "    found = SSSE3,SSE41,POPCNT,SSE42,AVX,F16C,FMA3,AVX2\n",
            "    not found = AVX512F,AVX512CD,AVX512_KNL,AVX512_KNM,AVX512_SKX,AVX512_CLX,AVX512_CNL,AVX512_ICL\n"
          ]
        }
      ]
    },
    {
      "cell_type": "markdown",
      "metadata": {
        "id": "8_JijOlEqJaU"
      },
      "source": [
        "#### 3. Create a null vector of size 10 (★☆☆) \n",
        "(**hint**: np.zeros)"
      ]
    },
    {
      "cell_type": "code",
      "execution_count": null,
      "metadata": {
        "id": "93V2aAtgqJbB",
        "colab": {
          "base_uri": "https://localhost:8080/"
        },
        "outputId": "4490197c-19d8-4f32-ee32-c19c4ba2b3d4"
      },
      "outputs": [
        {
          "output_type": "execute_result",
          "data": {
            "text/plain": [
              "array([0., 0., 0., 0., 0., 0., 0., 0., 0., 0.])"
            ]
          },
          "metadata": {},
          "execution_count": 3
        }
      ],
      "source": [
        "x = np.zeros(10)\n",
        "x"
      ]
    },
    {
      "cell_type": "markdown",
      "metadata": {
        "id": "f2PoOzBuqJbC"
      },
      "source": [
        "#### 4.  How to find the memory size of any array (★☆☆) \n",
        "(**hint**: size, itemsize)"
      ]
    },
    {
      "cell_type": "code",
      "execution_count": null,
      "metadata": {
        "id": "YcYJtFrCqJbE",
        "colab": {
          "base_uri": "https://localhost:8080/"
        },
        "outputId": "30c0a607-7208-4f89-c297-23382caf0e87"
      },
      "outputs": [
        {
          "output_type": "execute_result",
          "data": {
            "text/plain": [
              "32"
            ]
          },
          "metadata": {},
          "execution_count": 4
        }
      ],
      "source": [
        "x=np.array([12,18,53,60])\n",
        "x.size*x.itemsize"
      ]
    },
    {
      "cell_type": "markdown",
      "metadata": {
        "id": "4yU-UR1RqJbF"
      },
      "source": [
        "#### 5.  How to get the documentation of the numpy add function from the command line? (★☆☆) \n",
        "(**hint**: np.info)"
      ]
    },
    {
      "cell_type": "code",
      "execution_count": null,
      "metadata": {
        "collapsed": true,
        "id": "sORFSyBsqJbJ",
        "colab": {
          "base_uri": "https://localhost:8080/"
        },
        "outputId": "b25e213d-f216-4619-aa3b-baeaa3652d3b"
      },
      "outputs": [
        {
          "output_type": "stream",
          "name": "stdout",
          "text": [
            "add(x1, x2, /, out=None, *, where=True, casting='same_kind', order='K', dtype=None, subok=True[, signature, extobj])\n",
            "\n",
            "Add arguments element-wise.\n",
            "\n",
            "Parameters\n",
            "----------\n",
            "x1, x2 : array_like\n",
            "    The arrays to be added.\n",
            "    If ``x1.shape != x2.shape``, they must be broadcastable to a common\n",
            "    shape (which becomes the shape of the output).\n",
            "out : ndarray, None, or tuple of ndarray and None, optional\n",
            "    A location into which the result is stored. If provided, it must have\n",
            "    a shape that the inputs broadcast to. If not provided or None,\n",
            "    a freshly-allocated array is returned. A tuple (possible only as a\n",
            "    keyword argument) must have length equal to the number of outputs.\n",
            "where : array_like, optional\n",
            "    This condition is broadcast over the input. At locations where the\n",
            "    condition is True, the `out` array will be set to the ufunc result.\n",
            "    Elsewhere, the `out` array will retain its original value.\n",
            "    Note that if an uninitialized `out` array is created via the default\n",
            "    ``out=None``, locations within it where the condition is False will\n",
            "    remain uninitialized.\n",
            "**kwargs\n",
            "    For other keyword-only arguments, see the\n",
            "    :ref:`ufunc docs <ufuncs.kwargs>`.\n",
            "\n",
            "Returns\n",
            "-------\n",
            "add : ndarray or scalar\n",
            "    The sum of `x1` and `x2`, element-wise.\n",
            "    This is a scalar if both `x1` and `x2` are scalars.\n",
            "\n",
            "Notes\n",
            "-----\n",
            "Equivalent to `x1` + `x2` in terms of array broadcasting.\n",
            "\n",
            "Examples\n",
            "--------\n",
            ">>> np.add(1.0, 4.0)\n",
            "5.0\n",
            ">>> x1 = np.arange(9.0).reshape((3, 3))\n",
            ">>> x2 = np.arange(3.0)\n",
            ">>> np.add(x1, x2)\n",
            "array([[  0.,   2.,   4.],\n",
            "       [  3.,   5.,   7.],\n",
            "       [  6.,   8.,  10.]])\n",
            "\n",
            "The ``+`` operator can be used as a shorthand for ``np.add`` on ndarrays.\n",
            "\n",
            ">>> x1 = np.arange(9.0).reshape((3, 3))\n",
            ">>> x2 = np.arange(3.0)\n",
            ">>> x1 + x2\n",
            "array([[ 0.,  2.,  4.],\n",
            "       [ 3.,  5.,  7.],\n",
            "       [ 6.,  8., 10.]])\n"
          ]
        }
      ],
      "source": [
        "np.info(np.add)"
      ]
    },
    {
      "cell_type": "markdown",
      "metadata": {
        "id": "ZYwB28i0qJbJ"
      },
      "source": [
        "#### 6.  Create a null vector of size 10 but the fifth value which is 1 (★☆☆) \n",
        "(**hint**: array\\[4\\])"
      ]
    },
    {
      "cell_type": "code",
      "execution_count": null,
      "metadata": {
        "id": "1bwaNqEfqJbK",
        "colab": {
          "base_uri": "https://localhost:8080/"
        },
        "outputId": "4fa35ae0-18f2-4bfd-a993-cd6fe27e0a4d"
      },
      "outputs": [
        {
          "output_type": "execute_result",
          "data": {
            "text/plain": [
              "array([0., 0., 0., 0., 1., 0., 0., 0., 0., 0.])"
            ]
          },
          "metadata": {},
          "execution_count": 8
        }
      ],
      "source": [
        "x = np.zeros(10)\n",
        "x[4] = 1\n",
        "x"
      ]
    },
    {
      "cell_type": "markdown",
      "metadata": {
        "id": "8h94DUw-qJbL"
      },
      "source": [
        "#### 7.  Create a vector with values ranging from 10 to 49 (★☆☆) \n",
        "(**hint**: np.arange)"
      ]
    },
    {
      "cell_type": "code",
      "execution_count": null,
      "metadata": {
        "id": "N1FDVJxrqJbM",
        "colab": {
          "base_uri": "https://localhost:8080/"
        },
        "outputId": "797817d8-2539-4f7a-a68d-4ce21250a145"
      },
      "outputs": [
        {
          "output_type": "execute_result",
          "data": {
            "text/plain": [
              "array([10, 11, 12, 13, 14, 15, 16, 17, 18, 19, 20, 21, 22, 23, 24, 25, 26,\n",
              "       27, 28, 29, 30, 31, 32, 33, 34, 35, 36, 37, 38, 39, 40, 41, 42, 43,\n",
              "       44, 45, 46, 47, 48])"
            ]
          },
          "metadata": {},
          "execution_count": 20
        }
      ],
      "source": [
        "np.arange(10,49)"
      ]
    },
    {
      "cell_type": "markdown",
      "metadata": {
        "id": "Y9WFXbRsqJbM"
      },
      "source": [
        "#### 8.  Reverse a vector (first element becomes last) (★☆☆) \n",
        "(**hint**: array\\[::-1\\])"
      ]
    },
    {
      "cell_type": "code",
      "execution_count": 49,
      "metadata": {
        "id": "RnR81XxWqJbN",
        "colab": {
          "base_uri": "https://localhost:8080/"
        },
        "outputId": "ad3e119d-fc4a-4572-a6eb-6f96fe936047"
      },
      "outputs": [
        {
          "output_type": "stream",
          "name": "stdout",
          "text": [
            "[6 5 4 3 2 1]\n"
          ]
        }
      ],
      "source": [
        "x = np.array([1,2,3,4,5,6])\n",
        "print(x[::-1])"
      ]
    },
    {
      "cell_type": "markdown",
      "metadata": {
        "id": "4y-rjsUCqJbO"
      },
      "source": [
        "#### 9.  Create a 3x3 matrix with values ranging from 0 to 8 (★☆☆) \n",
        "(**hint**: reshape)"
      ]
    },
    {
      "cell_type": "code",
      "execution_count": 48,
      "metadata": {
        "id": "1rAeevklqJbO",
        "colab": {
          "base_uri": "https://localhost:8080/"
        },
        "outputId": "124bd5d2-c63a-441d-8c53-c133f4c988a6"
      },
      "outputs": [
        {
          "output_type": "stream",
          "name": "stdout",
          "text": [
            "[[0 1 2]\n",
            " [3 4 5]\n",
            " [6 7 8]]\n"
          ]
        }
      ],
      "source": [
        "x=np.arange(9)\n",
        "print(x.reshape(3,3))"
      ]
    },
    {
      "cell_type": "markdown",
      "metadata": {
        "id": "7mH2zwgcqJb-"
      },
      "source": [
        "#### 10. Find indices of non-zero elements from \\[1,2,0,0,4,0\\] (★☆☆) \n",
        "(**hint**: np.nonzero)"
      ]
    },
    {
      "cell_type": "code",
      "execution_count": 45,
      "metadata": {
        "id": "V5N3_bmLqJb_",
        "colab": {
          "base_uri": "https://localhost:8080/"
        },
        "outputId": "5d4589c4-0655-4e37-f62c-21c1c778275c"
      },
      "outputs": [
        {
          "output_type": "execute_result",
          "data": {
            "text/plain": [
              "(array([0, 1, 4]),)"
            ]
          },
          "metadata": {},
          "execution_count": 45
        }
      ],
      "source": [
        "x = np.array([1,2,0,0,4,0])\n",
        "np.nonzero(x)"
      ]
    },
    {
      "cell_type": "markdown",
      "metadata": {
        "id": "zVCHxn28qJcA"
      },
      "source": [
        "#### 11. Create a 3x3 identity matrix (★☆☆) \n",
        "(**hint**: np.eye)"
      ]
    },
    {
      "cell_type": "code",
      "execution_count": 41,
      "metadata": {
        "id": "NgCs9YngqJcC",
        "colab": {
          "base_uri": "https://localhost:8080/"
        },
        "outputId": "7d211243-3831-4700-8706-2d0e6ebc3d1c"
      },
      "outputs": [
        {
          "output_type": "stream",
          "name": "stdout",
          "text": [
            "[[1. 0. 0.]\n",
            " [0. 1. 0.]\n",
            " [0. 0. 1.]]\n"
          ]
        }
      ],
      "source": [
        "X = np.eye(3)\n",
        "print(X)"
      ]
    },
    {
      "cell_type": "markdown",
      "metadata": {
        "id": "rn3uN-8oqJcD"
      },
      "source": [
        "#### 12. Create a 3x3x3 array with random values (★☆☆) \n",
        "(**hint**: np.random.random)"
      ]
    },
    {
      "cell_type": "code",
      "execution_count": 128,
      "metadata": {
        "id": "a_91UnwoqJcD",
        "colab": {
          "base_uri": "https://localhost:8080/"
        },
        "outputId": "c439bb58-b330-4ed0-c074-d2411c3dd3fc"
      },
      "outputs": [
        {
          "output_type": "stream",
          "name": "stdout",
          "text": [
            "[[[0.1283113  0.23160775 0.76512616]\n",
            "  [0.58338847 0.11814919 0.25326113]\n",
            "  [0.01622104 0.9249755  0.60912565]]\n",
            "\n",
            " [[0.86164791 0.26623704 0.19970447]\n",
            "  [0.60328111 0.83618738 0.1452182 ]\n",
            "  [0.90692976 0.63799728 0.97803146]]\n",
            "\n",
            " [[0.92161356 0.99184295 0.10315849]\n",
            "  [0.53511535 0.27621319 0.36488445]\n",
            "  [0.09122633 0.70422485 0.60495125]]]\n"
          ]
        }
      ],
      "source": [
        "print(np.random.random((3,3,3)))"
      ]
    },
    {
      "cell_type": "markdown",
      "metadata": {
        "id": "YlH994DZqJcE"
      },
      "source": [
        "#### 13. Create a 10x10 array with random values and find the minimum and maximum values (★☆☆) \n",
        "(**hint**: min, max)"
      ]
    },
    {
      "cell_type": "code",
      "execution_count": null,
      "metadata": {
        "id": "C-arjUQ7qJcE",
        "colab": {
          "base_uri": "https://localhost:8080/"
        },
        "outputId": "7136c45d-3e8c-4fc5-98b5-5412e48bab7d"
      },
      "outputs": [
        {
          "output_type": "stream",
          "name": "stdout",
          "text": [
            "[[0.25489228 0.10124483 0.72111443 0.65800191 0.0536425  0.53081675\n",
            "  0.72606112 0.679061   0.04436636 0.2372338 ]\n",
            " [0.56052593 0.27791354 0.0589789  0.22093033 0.38596691 0.02937504\n",
            "  0.79010103 0.87613223 0.81581364 0.86171095]\n",
            " [0.58132638 0.23632475 0.57083188 0.29054491 0.59581645 0.13486744\n",
            "  0.45952122 0.91144194 0.52862075 0.66901564]\n",
            " [0.72976611 0.16025698 0.64405844 0.33922549 0.13037206 0.41372334\n",
            "  0.03869095 0.3525225  0.32139224 0.33809021]\n",
            " [0.59713301 0.35049507 0.62459676 0.65464434 0.5764092  0.19856941\n",
            "  0.59557401 0.20519781 0.7279065  0.91982376]\n",
            " [0.77826528 0.32817475 0.69595541 0.43470172 0.59858137 0.16316637\n",
            "  0.76100433 0.63819024 0.78599911 0.13135464]\n",
            " [0.52947123 0.29711663 0.49983272 0.04035905 0.25211482 0.75432389\n",
            "  0.99958376 0.8038865  0.6541007  0.10914826]\n",
            " [0.36312572 0.54783686 0.65384351 0.90135302 0.40597482 0.93586829\n",
            "  0.5524081  0.94920409 0.68145037 0.0401714 ]\n",
            " [0.77295507 0.27728707 0.6545198  0.32659226 0.41025983 0.61910927\n",
            "  0.48084866 0.61277626 0.50521286 0.35593674]\n",
            " [0.84741175 0.6815928  0.06100824 0.92721961 0.28447857 0.04438982\n",
            "  0.40011432 0.42690448 0.09990678 0.8546118 ]]\n",
            "Minimum: 0.029375041295889526\n",
            "Maximum: 0.9995837613346695\n"
          ]
        }
      ],
      "source": [
        "X = np.random.random((10,10))\n",
        "print(X)\n",
        "print('Minimum:',X.min())\n",
        "print('Maximum:',X.max())"
      ]
    },
    {
      "cell_type": "markdown",
      "metadata": {
        "id": "OTIe74RhqJcE"
      },
      "source": [
        "#### 14. Create a random vector of size 30 and find the mean value (★☆☆) \n",
        "(**hint**: mean)"
      ]
    },
    {
      "cell_type": "code",
      "execution_count": null,
      "metadata": {
        "id": "z0d2nurdqJcF",
        "colab": {
          "base_uri": "https://localhost:8080/"
        },
        "outputId": "7bd0f706-98cb-470f-bd30-6f8d9a4d83fb"
      },
      "outputs": [
        {
          "output_type": "stream",
          "name": "stdout",
          "text": [
            "[0.27768099 0.94437859 0.33059291 0.06800659 0.30749614 0.71572005\n",
            " 0.68276757 0.70727224 0.88877688 0.61058836 0.78999866 0.73375919\n",
            " 0.74594921 0.0675924  0.22917203 0.56341495 0.8604881  0.48031556\n",
            " 0.49241204 0.33583852 0.35575074 0.32112006 0.80869601 0.32562852\n",
            " 0.52507436 0.05188758 0.92154932 0.16337352 0.59026175 0.86873146]\n",
            "Mean: 0.5254764766546597\n"
          ]
        }
      ],
      "source": [
        "X = np.random.random(30)\n",
        "print(X)\n",
        "print('Mean:',X.mean())"
      ]
    },
    {
      "cell_type": "markdown",
      "metadata": {
        "id": "kFK8HW6DqJcG"
      },
      "source": [
        "#### 15. Create a 2d array with 1 on the border and 0 inside (★☆☆) \n",
        "(**hint**: array\\[1:-1, 1:-1\\])"
      ]
    },
    {
      "cell_type": "code",
      "execution_count": 51,
      "metadata": {
        "id": "6W3LXBHlqJcH",
        "colab": {
          "base_uri": "https://localhost:8080/"
        },
        "outputId": "b5d24b6e-9f57-4854-b78f-8f1c33e4b441"
      },
      "outputs": [
        {
          "output_type": "execute_result",
          "data": {
            "text/plain": [
              "array([[1, 1, 1, 1, 1, 1, 1, 1, 1, 1],\n",
              "       [1, 0, 0, 0, 0, 0, 0, 0, 0, 1],\n",
              "       [1, 0, 0, 0, 0, 0, 0, 0, 0, 1],\n",
              "       [1, 0, 0, 0, 0, 0, 0, 0, 0, 1],\n",
              "       [1, 0, 0, 0, 0, 0, 0, 0, 0, 1],\n",
              "       [1, 0, 0, 0, 0, 0, 0, 0, 0, 1],\n",
              "       [1, 0, 0, 0, 0, 0, 0, 0, 0, 1],\n",
              "       [1, 0, 0, 0, 0, 0, 0, 0, 0, 1],\n",
              "       [1, 0, 0, 0, 0, 0, 0, 0, 0, 1],\n",
              "       [1, 1, 1, 1, 1, 1, 1, 1, 1, 1]])"
            ]
          },
          "metadata": {},
          "execution_count": 51
        }
      ],
      "source": [
        "X=np.ones((10,10),dtype=int)\n",
        "X[1:-1,1:-1]=0\n",
        "X"
      ]
    },
    {
      "cell_type": "markdown",
      "metadata": {
        "id": "SUZwnEGHqJcH"
      },
      "source": [
        "#### 16. How to add a border (filled with 0's) around an existing array? (★☆☆) \n",
        "(**hint**: np.pad)"
      ]
    },
    {
      "cell_type": "code",
      "execution_count": 52,
      "metadata": {
        "id": "DJISgusBqJcI",
        "colab": {
          "base_uri": "https://localhost:8080/"
        },
        "outputId": "c7829d84-1079-4523-efc0-7c69ee3f57c3"
      },
      "outputs": [
        {
          "output_type": "stream",
          "name": "stdout",
          "text": [
            "[[0 0 0 0]\n",
            " [0 1 1 0]\n",
            " [0 1 1 0]\n",
            " [0 1 1 0]\n",
            " [0 0 0 0]]\n"
          ]
        }
      ],
      "source": [
        "X = np.ones((3,2),dtype=int)\n",
        "X = np.pad(X,pad_width=1,mode='constant',constant_values=0)\n",
        "print(X)"
      ]
    },
    {
      "cell_type": "markdown",
      "metadata": {
        "id": "Y_5y_UDjqJcI"
      },
      "source": [
        "#### 17. What is the result of the following expression? (★☆☆) \n",
        "(**hint**: NaN = not a number, inf = infinity)"
      ]
    },
    {
      "cell_type": "markdown",
      "metadata": {
        "id": "3oGpuFkcqJcJ"
      },
      "source": [
        "```python\n",
        "0 * np.nan\n",
        "np.nan == np.nan\n",
        "np.inf > np.nan\n",
        "np.nan - np.nan\n",
        "0.3 == 3 * 0.1\n",
        "```"
      ]
    },
    {
      "cell_type": "code",
      "execution_count": null,
      "metadata": {
        "id": "zICUdTW3qJcK"
      },
      "outputs": [],
      "source": [
        "#the corresponding outputs are given below\n",
        "\n",
        "nan\n",
        "False\n",
        "False\n",
        "nan\n",
        "False\n"
      ]
    },
    {
      "cell_type": "markdown",
      "metadata": {
        "id": "TqiN9OtkqJcL"
      },
      "source": [
        "#### 18. Create a 5x5 matrix with values 1,2,3,4 just below the diagonal (★☆☆) \n",
        "(**hint**: np.diag)"
      ]
    },
    {
      "cell_type": "code",
      "execution_count": 34,
      "metadata": {
        "id": "7FWPDKpTqJcL",
        "colab": {
          "base_uri": "https://localhost:8080/"
        },
        "outputId": "3c7e2004-8305-4661-fb28-6a609dd48710"
      },
      "outputs": [
        {
          "output_type": "execute_result",
          "data": {
            "text/plain": [
              "array([[0, 0, 0, 0, 0],\n",
              "       [1, 0, 0, 0, 0],\n",
              "       [0, 2, 0, 0, 0],\n",
              "       [0, 0, 3, 0, 0],\n",
              "       [0, 0, 0, 4, 0]])"
            ]
          },
          "metadata": {},
          "execution_count": 34
        }
      ],
      "source": [
        "np.diag(1+np.arange(4),k=-1)"
      ]
    },
    {
      "cell_type": "markdown",
      "metadata": {
        "id": "MvQncmGzqJcM"
      },
      "source": [
        "#### 19. Create a 8x8 matrix and fill it with a checkerboard pattern (★☆☆) \n",
        "(**hint**: array\\[::2\\])"
      ]
    },
    {
      "cell_type": "code",
      "execution_count": 40,
      "metadata": {
        "id": "gvg1Q2WMqJcN",
        "colab": {
          "base_uri": "https://localhost:8080/"
        },
        "outputId": "aea8d3db-1ba5-405f-94e5-e3e6d53a08ae"
      },
      "outputs": [
        {
          "output_type": "stream",
          "name": "stdout",
          "text": [
            "[[1 0 1 0 1 0 1 0]\n",
            " [0 1 0 1 0 1 0 1]\n",
            " [1 0 1 0 1 0 1 0]\n",
            " [0 1 0 1 0 1 0 1]\n",
            " [1 0 1 0 1 0 1 0]\n",
            " [0 1 0 1 0 1 0 1]\n",
            " [1 0 1 0 1 0 1 0]\n",
            " [0 1 0 1 0 1 0 1]]\n"
          ]
        }
      ],
      "source": [
        "X=np.ones((8,8),dtype=int)\n",
        "X[::2,1::2]=0\n",
        "X[1::2,::2]=0\n",
        "print(X)"
      ]
    },
    {
      "cell_type": "markdown",
      "metadata": {
        "id": "eDmQDaOTqJcO"
      },
      "source": [
        "#### 20. Consider a (6,7,8) shape array, what is the index (x,y,z) of the 100th element? \n",
        "(**hint**: np.unravel_index)"
      ]
    },
    {
      "cell_type": "code",
      "execution_count": 53,
      "metadata": {
        "id": "otfL0teKqJcP",
        "colab": {
          "base_uri": "https://localhost:8080/"
        },
        "outputId": "1ef20fb6-85da-4ad2-d698-91a3d5314f46"
      },
      "outputs": [
        {
          "output_type": "stream",
          "name": "stdout",
          "text": [
            "(1, 5, 4)\n"
          ]
        }
      ],
      "source": [
        "print(np.unravel_index(100,(6,7,8)))"
      ]
    },
    {
      "cell_type": "markdown",
      "metadata": {
        "id": "7R4Sfi9MqJcP"
      },
      "source": [
        "#### 21. Create a checkerboard 8x8 matrix using the tile function (★☆☆) \n",
        "(**hint**: np.tile)"
      ]
    },
    {
      "cell_type": "code",
      "execution_count": 59,
      "metadata": {
        "id": "oszCVTcIqJcQ",
        "colab": {
          "base_uri": "https://localhost:8080/"
        },
        "outputId": "b7170f9a-17fd-4cbe-919d-01e82285315b"
      },
      "outputs": [
        {
          "output_type": "stream",
          "name": "stdout",
          "text": [
            "[[0 1 0 1 0 1 0 1]\n",
            " [1 0 1 0 1 0 1 0]\n",
            " [0 1 0 1 0 1 0 1]\n",
            " [1 0 1 0 1 0 1 0]\n",
            " [0 1 0 1 0 1 0 1]\n",
            " [1 0 1 0 1 0 1 0]\n",
            " [0 1 0 1 0 1 0 1]\n",
            " [1 0 1 0 1 0 1 0]]\n"
          ]
        }
      ],
      "source": [
        "X = np.array([[0,1],[1,0]])\n",
        "Y = np.tile(X,(4,4))\n",
        "print(Y)"
      ]
    },
    {
      "cell_type": "markdown",
      "metadata": {
        "id": "7BeH4p_nqJcQ"
      },
      "source": [
        "#### 22. Normalize a 5x5 random matrix (★☆☆) \n",
        "(**hint**: (x - min) / (max - min))"
      ]
    },
    {
      "cell_type": "code",
      "execution_count": 62,
      "metadata": {
        "id": "37jf_xQUqJcQ",
        "colab": {
          "base_uri": "https://localhost:8080/"
        },
        "outputId": "7128151d-c84c-4864-e105-af7a7f9dc46b"
      },
      "outputs": [
        {
          "output_type": "stream",
          "name": "stdout",
          "text": [
            "[[0.12231871 0.10727612 0.07007199 0.28524876 0.70716457]\n",
            " [0.44660973 0.53961928 0.48776921 0.79485801 0.        ]\n",
            " [0.07397077 0.623727   0.08724721 0.86890607 0.13347906]\n",
            " [0.1652375  0.29886522 0.84187928 1.         0.1569485 ]\n",
            " [0.83153039 0.29745279 0.37930272 0.00466679 0.32835899]]\n"
          ]
        }
      ],
      "source": [
        "X = np.random.random((5,5))\n",
        "Result = (X - X.min())/(X.max()-X.min())\n",
        "print(Result)"
      ]
    },
    {
      "cell_type": "markdown",
      "metadata": {
        "id": "WGcSN53yqJcR"
      },
      "source": [
        "#### 23. Create a custom dtype that describes a color as four unsigned bytes (RGBA) (★☆☆) \n",
        "(**hint**: np.dtype)"
      ]
    },
    {
      "cell_type": "code",
      "execution_count": 3,
      "metadata": {
        "collapsed": true,
        "id": "aD7WAgyiqJcR",
        "colab": {
          "base_uri": "https://localhost:8080/"
        },
        "outputId": "6464f440-075d-44d5-aacb-4c424fec6033"
      },
      "outputs": [
        {
          "output_type": "stream",
          "name": "stdout",
          "text": [
            "1\n"
          ]
        },
        {
          "output_type": "execute_result",
          "data": {
            "text/plain": [
              "numpy.ndarray"
            ]
          },
          "metadata": {},
          "execution_count": 3
        }
      ],
      "source": [
        "RGBA = np.dtype([('red',np.uint8),('green',np.uint8),('blue',np.uint8),('alpha',np.uint8)])\n",
        "color = np.array((1,2,4,3),dtype = RGBA)\n",
        "print(color['red'])\n",
        "type(color)"
      ]
    },
    {
      "cell_type": "markdown",
      "metadata": {
        "id": "ofNo-TCtqJcT"
      },
      "source": [
        "#### 24. Multiply a 5x3 matrix by a 3x2 matrix (real matrix product) (★☆☆) \n",
        "(**hint**: np.dot | @)"
      ]
    },
    {
      "cell_type": "code",
      "execution_count": 79,
      "metadata": {
        "id": "4afhcH01qJcT",
        "colab": {
          "base_uri": "https://localhost:8080/"
        },
        "outputId": "a86ba4a7-4459-4f3f-d0ea-aa68c5eb880b"
      },
      "outputs": [
        {
          "output_type": "stream",
          "name": "stdout",
          "text": [
            "Matrix A\n",
            "\n",
            " [[ 0  2  4]\n",
            " [ 6  8 10]\n",
            " [12 14 16]\n",
            " [18 20 22]\n",
            " [24 26 28]]\n",
            "\n",
            "Matrix B\n",
            "\n",
            " [[0 1]\n",
            " [2 3]\n",
            " [4 5]]\n",
            "\n",
            "Matrix Multiplication Result\n",
            "\n",
            " [[ 20  26]\n",
            " [ 56  80]\n",
            " [ 92 134]\n",
            " [128 188]\n",
            " [164 242]]\n"
          ]
        }
      ],
      "source": [
        "# from question, my understanding is that the expected operation is matrix multiplication\n",
        "A = np.arange(0,30,2)\n",
        "A = A.reshape(5,3)\n",
        "print('Matrix A\\n\\n',A)\n",
        "B = np.arange(6)\n",
        "B = B.reshape(3,2)\n",
        "print('\\nMatrix B\\n\\n',B)\n",
        "print('\\nMatrix Multiplication Result\\n\\n',A@B)"
      ]
    },
    {
      "cell_type": "markdown",
      "metadata": {
        "id": "rJdz3mb3qJcX"
      },
      "source": [
        "#### 25. Given a 1D array, negate all elements which are between 3 and 8, in place. (★☆☆) \n",
        "(**hint**: >, <=)"
      ]
    },
    {
      "cell_type": "code",
      "execution_count": 89,
      "metadata": {
        "id": "4p6RdJisqJcX",
        "colab": {
          "base_uri": "https://localhost:8080/"
        },
        "outputId": "9bad8faf-7f20-4fc5-e111-47eb0ef60ca9"
      },
      "outputs": [
        {
          "output_type": "stream",
          "name": "stdout",
          "text": [
            "[ 1  2  0  0  0  0  0  0  9 10 11]\n"
          ]
        }
      ],
      "source": [
        "# here the negation is inclusive of 3 and 8\n",
        "x = np.arange(1,12)\n",
        "x[((x>2) & (x<=8))] = 0\n",
        "print(x)"
      ]
    },
    {
      "cell_type": "markdown",
      "metadata": {
        "id": "BCxYpWeEqJcY"
      },
      "source": [
        "#### 26. What is the output of the following script? (★☆☆) \n",
        "(**hint**: np.sum)"
      ]
    },
    {
      "cell_type": "markdown",
      "metadata": {
        "id": "1eK8jlwYqJcY"
      },
      "source": [
        "```python\n",
        "# Author: Jake VanderPlas\n",
        "\n",
        "print(sum(range(5),-1))\n",
        "from numpy import *\n",
        "print(sum(range(5),-1))\n",
        "```"
      ]
    },
    {
      "cell_type": "code",
      "execution_count": 91,
      "metadata": {
        "id": "E2U4ahW_qJcb",
        "colab": {
          "base_uri": "https://localhost:8080/"
        },
        "outputId": "af0a0505-5392-4c3c-8984-a4e0bb2908c2"
      },
      "outputs": [
        {
          "output_type": "stream",
          "name": "stdout",
          "text": [
            "9\n",
            "10\n"
          ]
        }
      ],
      "source": [
        "print(sum(range(5),-1))\n",
        "from numpy import *\n",
        "print(sum(range(5),-1))"
      ]
    },
    {
      "cell_type": "markdown",
      "metadata": {
        "id": "S-2VWuErqJcc"
      },
      "source": [
        "#### 27. Consider an integer vector Z, which of these expressions are legal? (★☆☆)"
      ]
    },
    {
      "cell_type": "markdown",
      "metadata": {
        "id": "dQcSy10FqJcc"
      },
      "source": [
        "```python\n",
        "Z**Z\n",
        "2 << Z >> 2\n",
        "Z <- Z\n",
        "1j*Z\n",
        "Z/1/1\n",
        "Z<Z>Z\n",
        "```"
      ]
    },
    {
      "cell_type": "code",
      "execution_count": 102,
      "metadata": {
        "id": "2ajgUrnhqJcd",
        "colab": {
          "base_uri": "https://localhost:8080/"
        },
        "outputId": "35f7336d-daf7-44e4-bfec-5008fb0163bb"
      },
      "outputs": [
        {
          "output_type": "stream",
          "name": "stdout",
          "text": [
            "[2 3 4]\n",
            "[  4  27 256]\n",
            "[2 4 8]\n",
            "[False False False]\n",
            "[0.+2.j 0.+3.j 0.+4.j]\n",
            "[2. 3. 4.]\n"
          ]
        }
      ],
      "source": [
        "# except the last expression 'Z<Z>Z', everything is valid\n",
        "Z = np.arange(2,5)\n",
        "print(Z)\n",
        "print(Z**Z)\n",
        "print(2 << Z >> 2)\n",
        "print(Z <- Z)\n",
        "print(1j*Z)\n",
        "print(Z/1/1)"
      ]
    },
    {
      "cell_type": "markdown",
      "metadata": {
        "id": "lrer_QRVqJcd"
      },
      "source": [
        "#### 28. What are the result of the following expressions?"
      ]
    },
    {
      "cell_type": "markdown",
      "metadata": {
        "id": "-fI9sPRRqJce"
      },
      "source": [
        "```python\n",
        "np.array(0) / np.array(0)\n",
        "np.array(0) // np.array(0)\n",
        "np.array([np.nan]).astype(int).astype(float)\n",
        "```"
      ]
    },
    {
      "cell_type": "code",
      "source": [
        "# the corresponding outputs are below.\n",
        "nan\n",
        "0\n",
        "array([-9.22337204e+18])"
      ],
      "metadata": {
        "id": "5Vo_D87Vokfn"
      },
      "execution_count": null,
      "outputs": []
    },
    {
      "cell_type": "markdown",
      "metadata": {
        "id": "DN1h_Lv-qJcf"
      },
      "source": [
        "#### 29. How to round away from zero a float array ? (★☆☆) \n",
        "(**hint**: np.uniform, np.copysign, np.ceil, np.abs)"
      ]
    },
    {
      "cell_type": "code",
      "execution_count": 110,
      "metadata": {
        "id": "prDC2-7WqJcf",
        "colab": {
          "base_uri": "https://localhost:8080/"
        },
        "outputId": "45027719-1204-44a3-d539-362d77734000"
      },
      "outputs": [
        {
          "output_type": "stream",
          "name": "stdout",
          "text": [
            "[ 1.1195327  -4.77194769 -3.21826155 -4.60107564  4.83404395  0.36686289\n",
            "  2.45104697 -2.43623699  3.89294576  1.99158906]\n",
            "[ 2. -5. -4. -5.  5.  1.  3. -3.  4.  2.]\n"
          ]
        }
      ],
      "source": [
        "X = np.random.uniform(-5, +5, 10)\n",
        "print(X)\n",
        "Y = np.copysign(np.ceil(np.abs(X)),X)\n",
        "print(Y)"
      ]
    },
    {
      "cell_type": "markdown",
      "metadata": {
        "id": "nvlL0dq3qJcf"
      },
      "source": [
        "#### 30. How to find common values between two arrays? (★☆☆) \n",
        "(**hint**: np.intersect1d)"
      ]
    },
    {
      "cell_type": "code",
      "execution_count": 112,
      "metadata": {
        "id": "ksqEpYGgqJcg",
        "colab": {
          "base_uri": "https://localhost:8080/"
        },
        "outputId": "9c9ea78c-6395-4dae-cc4a-2646b295ecf4"
      },
      "outputs": [
        {
          "output_type": "stream",
          "name": "stdout",
          "text": [
            "[5 7 9]\n"
          ]
        }
      ],
      "source": [
        "a = np.arange(1,10)\n",
        "b = np.arange(5,15,2)\n",
        "x= np.intersect1d(a,b)\n",
        "print(x)"
      ]
    },
    {
      "cell_type": "markdown",
      "metadata": {
        "id": "s8vmFrsXqJcg"
      },
      "source": [
        "#### 31. How to ignore all numpy warnings (not recommended)? (★☆☆) \n",
        "(**hint**: np.seterr, np.errstate)"
      ]
    },
    {
      "cell_type": "code",
      "execution_count": 113,
      "metadata": {
        "id": "HK5p0Y1EqJch",
        "colab": {
          "base_uri": "https://localhost:8080/"
        },
        "outputId": "cbe512f2-c7f8-4140-f08c-114b451a785f"
      },
      "outputs": [
        {
          "output_type": "stream",
          "name": "stderr",
          "text": [
            "<ipython-input-113-3e2cfc94d16e>:4: RuntimeWarning: divide by zero encountered in true_divide\n",
            "  a=np.arange(10)/0\n"
          ]
        }
      ],
      "source": [
        "np.seterr(all='ignore')\n",
        "a=np.arange(10)/0\n",
        "with np.errstate(divide='warn'):\n",
        "     a=np.arange(10)/0"
      ]
    },
    {
      "cell_type": "markdown",
      "metadata": {
        "id": "EGZV6nbWqJch"
      },
      "source": [
        "#### 32. Is the following expressions true? (★☆☆) \n",
        "(**hint**: imaginary number)"
      ]
    },
    {
      "cell_type": "markdown",
      "metadata": {
        "id": "WBp5FmPeqJch"
      },
      "source": [
        "```python\n",
        "np.sqrt(-1) == np.emath.sqrt(-1)\n",
        "```"
      ]
    },
    {
      "cell_type": "code",
      "execution_count": 114,
      "metadata": {
        "id": "aV6RFoLIqJci",
        "colab": {
          "base_uri": "https://localhost:8080/"
        },
        "outputId": "d9550589-db56-4bce-994b-332ab1946f71"
      },
      "outputs": [
        {
          "output_type": "execute_result",
          "data": {
            "text/plain": [
              "False"
            ]
          },
          "metadata": {},
          "execution_count": 114
        }
      ],
      "source": [
        "np.sqrt(-1) == np.emath.sqrt(-1)"
      ]
    },
    {
      "cell_type": "markdown",
      "metadata": {
        "id": "a_Ks6IkhqJcj"
      },
      "source": [
        "#### 33. How to get the dates of yesterday, today and tomorrow? (★☆☆) \n",
        "(**hint**: np.datetime64, np.timedelta64)"
      ]
    },
    {
      "cell_type": "code",
      "execution_count": 115,
      "metadata": {
        "collapsed": true,
        "id": "uXkv1hYJqJck",
        "colab": {
          "base_uri": "https://localhost:8080/"
        },
        "outputId": "2b3f5792-1673-4dc6-d7f7-4315e2b24d8d"
      },
      "outputs": [
        {
          "output_type": "stream",
          "name": "stdout",
          "text": [
            "Today :  2023-01-10\n",
            "Yesterday :  2023-01-09\n",
            "Tomorrow :  2023-01-11\n"
          ]
        }
      ],
      "source": [
        "Today=np.datetime64('today','D')\n",
        "print('Today : ',Today)\n",
        "Yesterday=Today - np.timedelta64(1,'D')\n",
        "print('Yesterday : ',Yesterday)\n",
        "Tomorrow=Today + np.timedelta64(1,'D')\n",
        "print('Tomorrow : ',Tomorrow)"
      ]
    },
    {
      "cell_type": "markdown",
      "metadata": {
        "id": "ojWLkEplqJcm"
      },
      "source": [
        "#### 34. How to get all the dates corresponding to the month of July 2016? (★★☆) \n",
        "(**hint**: np.arange(dtype=datetime64\\['D'\\]))"
      ]
    },
    {
      "cell_type": "code",
      "execution_count": 120,
      "metadata": {
        "id": "iHLgZCw6qJcm",
        "colab": {
          "base_uri": "https://localhost:8080/"
        },
        "outputId": "cd36bc7d-b87c-4de7-d61e-4df24cfb7732"
      },
      "outputs": [
        {
          "output_type": "stream",
          "name": "stdout",
          "text": [
            "['2016-07-01' '2016-07-02' '2016-07-03' '2016-07-04' '2016-07-05'\n",
            " '2016-07-06' '2016-07-07' '2016-07-08' '2016-07-09' '2016-07-10'\n",
            " '2016-07-11' '2016-07-12' '2016-07-13' '2016-07-14' '2016-07-15'\n",
            " '2016-07-16' '2016-07-17' '2016-07-18' '2016-07-19' '2016-07-20'\n",
            " '2016-07-21' '2016-07-22' '2016-07-23' '2016-07-24' '2016-07-25'\n",
            " '2016-07-26' '2016-07-27' '2016-07-28' '2016-07-29' '2016-07-30'\n",
            " '2016-07-31']\n"
          ]
        }
      ],
      "source": [
        "X=np.arange('2016-07','2016-08',dtype='datetime64[D]')\n",
        "print(X)"
      ]
    },
    {
      "cell_type": "markdown",
      "metadata": {
        "id": "tXjQwc32qJcn"
      },
      "source": [
        "#### 35. How to compute ((A+B)\\*(-A/2)) in place (without copy)? (★★☆) \n",
        "(**hint**: np.add(out=), np.negative(out=), np.multiply(out=), np.divide(out=))"
      ]
    },
    {
      "cell_type": "code",
      "execution_count": 121,
      "metadata": {
        "id": "gncWk9DHqJcn"
      },
      "outputs": [],
      "source": []
    },
    {
      "cell_type": "markdown",
      "metadata": {
        "id": "cu12Gs5WqJco"
      },
      "source": [
        "#### 36. Extract the integer part of a random array using 5 different methods (★★☆) \n",
        "(**hint**: %, np.floor, np.ceil, astype, np.trunc)"
      ]
    },
    {
      "cell_type": "code",
      "execution_count": 127,
      "metadata": {
        "id": "mziMdgZ8qJco",
        "colab": {
          "base_uri": "https://localhost:8080/"
        },
        "outputId": "859fbb61-8bca-42bc-c0e4-3912ff0ebe45"
      },
      "outputs": [
        {
          "output_type": "stream",
          "name": "stdout",
          "text": [
            "[-3.29593466 -4.40630065 -1.92270505 -1.18082767 -0.54714857]\n",
            "[-4. -5. -2. -2. -1.]\n",
            "[-4. -5. -2. -2. -1.]\n",
            "[-4. -5. -2. -2. -1.]\n",
            "[-3 -4 -1 -1  0]\n",
            "[-3. -4. -1. -1. -0.]\n"
          ]
        }
      ],
      "source": [
        "X=np.random.uniform(-5,5,5)\n",
        "print(X)\n",
        "print(X-(X%1))\n",
        "print(np.floor(X))\n",
        "print(np.ceil(X)-1)\n",
        "print(X.astype(int))\n",
        "print(np.trunc(X))"
      ]
    },
    {
      "cell_type": "markdown",
      "metadata": {
        "id": "8qDJ-7oGqJcp"
      },
      "source": [
        "#### 37. Create a 5x5 matrix with row values ranging from 0 to 4 (★★☆) \n",
        "(**hint**: np.arange)"
      ]
    },
    {
      "cell_type": "code",
      "execution_count": 135,
      "metadata": {
        "id": "hyPde3SFqJcp",
        "colab": {
          "base_uri": "https://localhost:8080/"
        },
        "outputId": "c692fa5e-e50a-466a-b080-e69f9581534e"
      },
      "outputs": [
        {
          "output_type": "stream",
          "name": "stdout",
          "text": [
            "[[0. 1. 2. 3. 4.]\n",
            " [0. 1. 2. 3. 4.]\n",
            " [0. 1. 2. 3. 4.]\n",
            " [0. 1. 2. 3. 4.]\n",
            " [0. 1. 2. 3. 4.]]\n"
          ]
        }
      ],
      "source": [
        "A=np.zeros((5,5))\n",
        "A+=np.arange(0,5)\n",
        "print(A)"
      ]
    },
    {
      "cell_type": "markdown",
      "metadata": {
        "id": "CGuZzLF_qJcq"
      },
      "source": [
        "#### 38. Consider a generator function that generates 10 integers and use it to build an array (★☆☆) \n",
        "(**hint**: np.fromiter)"
      ]
    },
    {
      "cell_type": "code",
      "execution_count": 139,
      "metadata": {
        "id": "eaML7qQqqJcq",
        "colab": {
          "base_uri": "https://localhost:8080/"
        },
        "outputId": "39fccb6c-be60-45d5-9afd-c7c0680972d0"
      },
      "outputs": [
        {
          "output_type": "execute_result",
          "data": {
            "text/plain": [
              "array([0, 1, 2, 3, 4, 5, 6, 7, 8, 9])"
            ]
          },
          "metadata": {},
          "execution_count": 139
        }
      ],
      "source": [
        "def generator():\n",
        "  for x in range(10):\n",
        "    yield x\n",
        "\n",
        "y=np.fromiter(generator(),dtype=int,count=-1)\n",
        "y"
      ]
    },
    {
      "cell_type": "markdown",
      "metadata": {
        "id": "vV7X2CQTqJcr"
      },
      "source": [
        "#### 39. Create a vector of size 10 with values ranging from 0 to 1, both excluded (★★☆) \n",
        "(**hint**: np.linspace)"
      ]
    },
    {
      "cell_type": "code",
      "execution_count": 152,
      "metadata": {
        "id": "dW_xMBCVqJeD",
        "colab": {
          "base_uri": "https://localhost:8080/"
        },
        "outputId": "9570d6e9-283c-4a02-cc04-11b4c4e80f14"
      },
      "outputs": [
        {
          "output_type": "execute_result",
          "data": {
            "text/plain": [
              "array([0.09090909, 0.18181818, 0.27272727, 0.36363636, 0.45454545,\n",
              "       0.54545455, 0.63636364, 0.72727273, 0.81818182, 0.90909091])"
            ]
          },
          "metadata": {},
          "execution_count": 152
        }
      ],
      "source": [
        "V = np.linspace(0,1,11,endpoint=False)\n",
        "V[1:]"
      ]
    },
    {
      "cell_type": "markdown",
      "metadata": {
        "id": "a_25CvEDqJeD"
      },
      "source": [
        "#### 40. Create a random vector of size 10 and sort it (★★☆) \n",
        "(**hint**: sort)"
      ]
    },
    {
      "cell_type": "code",
      "execution_count": 157,
      "metadata": {
        "id": "aQVUJLk-qJeE",
        "colab": {
          "base_uri": "https://localhost:8080/"
        },
        "outputId": "86e6a9d6-8886-4ffd-9a1b-284233043f9e"
      },
      "outputs": [
        {
          "output_type": "stream",
          "name": "stdout",
          "text": [
            "[21 19 17  6 15  6 10  7]\n",
            "[ 6  6  7 10 15 17 19 21]\n"
          ]
        }
      ],
      "source": [
        "x=np.random.randint(5,25,8)\n",
        "print(x)\n",
        "print(np.sort(x))"
      ]
    },
    {
      "cell_type": "markdown",
      "metadata": {
        "id": "5lQOwtsfqJeE"
      },
      "source": [
        "#### 41. How to sum a small array faster than np.sum? (★★☆) \n",
        "(**hint**: np.add.reduce)"
      ]
    },
    {
      "cell_type": "code",
      "execution_count": 160,
      "metadata": {
        "id": "3fTFEyLfqJeF",
        "colab": {
          "base_uri": "https://localhost:8080/"
        },
        "outputId": "68b26f65-b2a2-474d-9724-e2c994979768"
      },
      "outputs": [
        {
          "output_type": "stream",
          "name": "stdout",
          "text": [
            "[ 0  1  2  3  4  5  6  7  8  9 10]\n"
          ]
        },
        {
          "output_type": "execute_result",
          "data": {
            "text/plain": [
              "55"
            ]
          },
          "metadata": {},
          "execution_count": 160
        }
      ],
      "source": [
        "x = np.arange(11)\n",
        "print(x)\n",
        "np.add.reduce(x)"
      ]
    },
    {
      "cell_type": "markdown",
      "metadata": {
        "id": "W_FhxsyvqJeF"
      },
      "source": [
        "#### 42. Consider two random array A and B, check if they are equal (★★☆) \n",
        "(**hint**: np.allclose, np.array\\_equal)"
      ]
    },
    {
      "cell_type": "code",
      "execution_count": 163,
      "metadata": {
        "id": "sIX-5ZjoqJeG",
        "colab": {
          "base_uri": "https://localhost:8080/"
        },
        "outputId": "5cd28c73-1e8e-4d32-9526-6e5ea7e18565"
      },
      "outputs": [
        {
          "output_type": "stream",
          "name": "stdout",
          "text": [
            "False\n",
            "False\n"
          ]
        }
      ],
      "source": [
        "a=np.random.randint(1,4,10)\n",
        "b=np.random.randint(2,6,10)\n",
        "print(np.allclose(a,b))\n",
        "print(np.array_equal(a,b))"
      ]
    },
    {
      "cell_type": "markdown",
      "metadata": {
        "id": "Ds5Or0-aqJeI"
      },
      "source": [
        "#### 43. Make an array immutable (read-only) (★★☆) \n",
        "(**hint**: flags.writeable)"
      ]
    },
    {
      "cell_type": "code",
      "execution_count": 164,
      "metadata": {
        "id": "uEsVCshgqJeI"
      },
      "outputs": [],
      "source": [
        "h = np.random.randint(2,10,5)\n",
        "h.flags.writeable=False\n",
        "# if we try to change the elements of h, we will get an error as it is only readable"
      ]
    },
    {
      "cell_type": "markdown",
      "metadata": {
        "id": "qWWE7jRBqJeJ"
      },
      "source": [
        "#### 44. Consider a random 10x2 matrix representing cartesian coordinates, convert them to polar coordinates (★★☆) \n",
        "(**hint**: np.sqrt, np.arctan2)"
      ]
    },
    {
      "cell_type": "code",
      "execution_count": 6,
      "metadata": {
        "id": "oXEKZ_OcqJeL",
        "colab": {
          "base_uri": "https://localhost:8080/"
        },
        "outputId": "b2b95ca6-73a6-4870-ee1f-4904d3a14527"
      },
      "outputs": [
        {
          "output_type": "stream",
          "name": "stdout",
          "text": [
            "[[0.96654604 0.32397431]\n",
            " [0.07205827 0.29006134]\n",
            " [0.11590102 0.89276224]\n",
            " [0.6063548  0.66058748]\n",
            " [0.47950054 0.25161541]\n",
            " [0.31812792 0.08113622]\n",
            " [0.83012451 0.15817085]\n",
            " [0.26853262 0.44731157]\n",
            " [0.09532093 0.22007928]\n",
            " [0.86031772 0.47044608]] \n",
            "\n",
            "Polar Coordinates\n",
            " [1.01939718 0.29887786 0.90025411 0.89668388 0.54150816 0.32831152\n",
            " 0.84505901 0.52172541 0.2398353  0.98054377]\n"
          ]
        }
      ],
      "source": [
        "Z = np.random.random((10,2))\n",
        "print(Z,'\\n')\n",
        "X,Y = Z[:,0], Z[:,1]\n",
        "A = np.sqrt(X**2+Y**2)\n",
        "print('Polar Coordinates\\n',A)"
      ]
    },
    {
      "cell_type": "markdown",
      "metadata": {
        "id": "SliaIVDfqJeM"
      },
      "source": [
        "#### 45. Create random vector of size 10 and replace the maximum value by 0 (★★☆) \n",
        "(**hint**: argmax)"
      ]
    },
    {
      "cell_type": "code",
      "execution_count": 166,
      "metadata": {
        "id": "Q7r9ml6QqJeM",
        "colab": {
          "base_uri": "https://localhost:8080/"
        },
        "outputId": "1a11e1de-00b2-462c-9e97-b57ed326f158"
      },
      "outputs": [
        {
          "output_type": "stream",
          "name": "stdout",
          "text": [
            "[0.21179082 0.73454208 0.05425175 0.50234942 0.25270692]\n"
          ]
        },
        {
          "output_type": "execute_result",
          "data": {
            "text/plain": [
              "array([0.21179082, 0.        , 0.05425175, 0.50234942, 0.25270692])"
            ]
          },
          "metadata": {},
          "execution_count": 166
        }
      ],
      "source": [
        "x=np.random.random(5)\n",
        "print(x)\n",
        "x[np.argmax(x)]=0\n",
        "x"
      ]
    },
    {
      "cell_type": "markdown",
      "metadata": {
        "id": "fTjUAMgOqJeN"
      },
      "source": [
        "#### 46. Create a structured array with `x` and `y` coordinates covering the \\[0,1\\]x\\[0,1\\] area (★★☆) \n",
        "(**hint**: np.meshgrid)"
      ]
    },
    {
      "cell_type": "code",
      "execution_count": 167,
      "metadata": {
        "id": "WrasuHZiqJeN",
        "colab": {
          "base_uri": "https://localhost:8080/"
        },
        "outputId": "5ede89b0-bdf6-4d9f-f0b3-12d0c00811ff"
      },
      "outputs": [
        {
          "output_type": "stream",
          "name": "stdout",
          "text": [
            "[[(0. , 0. ) (0.5, 0. ) (1. , 0. )]\n",
            " [(0. , 0.5) (0.5, 0.5) (1. , 0.5)]\n",
            " [(0. , 1. ) (0.5, 1. ) (1. , 1. )]]\n"
          ]
        }
      ],
      "source": [
        "Z = np.zeros((3,3), [('x',float),('y',float)])\n",
        "Z['x'],Z['y']=np.meshgrid(np.linspace(0,1,3),np.linspace(0,1,3))\n",
        "print(Z)"
      ]
    },
    {
      "cell_type": "markdown",
      "metadata": {
        "id": "bJqrCHBIqJeO"
      },
      "source": [
        "####  47. Given two arrays, X and Y, construct the Cauchy matrix C (Cij =1/(xi - yj)) \n",
        "(**hint**: np.subtract.outer)"
      ]
    },
    {
      "cell_type": "code",
      "source": [],
      "metadata": {
        "id": "ftD8QZaw0Lbw"
      },
      "execution_count": null,
      "outputs": []
    },
    {
      "cell_type": "markdown",
      "metadata": {
        "id": "w-26spnDqJeP"
      },
      "source": [
        "#### 48. Print the minimum and maximum representable value for each numpy scalar type (★★☆) \n",
        "(**hint**: np.iinfo, np.finfo, eps)"
      ]
    },
    {
      "cell_type": "code",
      "execution_count": 170,
      "metadata": {
        "id": "u1N-gKGUqJeQ",
        "colab": {
          "base_uri": "https://localhost:8080/"
        },
        "outputId": "a02743fd-0246-49d5-b7f3-bee88b84ee03"
      },
      "outputs": [
        {
          "output_type": "stream",
          "name": "stdout",
          "text": [
            "-128\n",
            "127\n",
            "-2147483648\n",
            "2147483647\n",
            "-9223372036854775808\n",
            "9223372036854775807\n"
          ]
        }
      ],
      "source": [
        "for dtype in [np.int8, np.int32, np.int64]:\n",
        "    print(np.iinfo(dtype).min)\n",
        "    print(np.iinfo(dtype).max)"
      ]
    },
    {
      "cell_type": "code",
      "source": [
        "for dtype in [np.float32, np.float64]:\n",
        "    print(np.finfo(dtype).min)\n",
        "    print(np.finfo(dtype).max)\n",
        "    print(np.finfo(dtype).eps)"
      ],
      "metadata": {
        "colab": {
          "base_uri": "https://localhost:8080/"
        },
        "id": "yRy86S9_0_lq",
        "outputId": "bd528197-7561-478c-cfaf-a704451a287b"
      },
      "execution_count": 171,
      "outputs": [
        {
          "output_type": "stream",
          "name": "stdout",
          "text": [
            "-3.4028235e+38\n",
            "3.4028235e+38\n",
            "1.1920929e-07\n",
            "-1.7976931348623157e+308\n",
            "1.7976931348623157e+308\n",
            "2.220446049250313e-16\n"
          ]
        }
      ]
    },
    {
      "cell_type": "markdown",
      "metadata": {
        "id": "8UE9tV_iqJeT"
      },
      "source": [
        "#### 49. How to print all the values of an array? (★★☆) \n",
        "(**hint**: np.set\\_printoptions)"
      ]
    },
    {
      "cell_type": "code",
      "source": [
        "np.set_printoptions(threshold=np.nan)"
      ],
      "metadata": {
        "id": "Uu0DJAr42ckI"
      },
      "execution_count": 177,
      "outputs": []
    },
    {
      "cell_type": "markdown",
      "metadata": {
        "id": "tk8mmzWXqJeU"
      },
      "source": [
        "#### 50. How to find the closest value (to a given scalar) in a vector? (★★☆) \n",
        "(**hint**: argmin)"
      ]
    },
    {
      "cell_type": "code",
      "execution_count": 180,
      "metadata": {
        "id": "7J7CMAeIqJeV",
        "colab": {
          "base_uri": "https://localhost:8080/"
        },
        "outputId": "fcfa1d41-3caf-45a6-bdc2-058dc64afd79"
      },
      "outputs": [
        {
          "output_type": "stream",
          "name": "stdout",
          "text": [
            "[ 8.35663217 11.30727592  6.21617806  8.40510468  6.21306317]\n",
            "Closest Value: 11.307275920745209\n"
          ]
        }
      ],
      "source": [
        "x = np.random.uniform(5,20,5)\n",
        "print(x)\n",
        "y = 10\n",
        "z = np.abs(x - y)\n",
        "index = z.argmin()\n",
        "\n",
        "print('Closest Value:', x[index])"
      ]
    },
    {
      "cell_type": "markdown",
      "metadata": {
        "id": "mjCt6ktEqJeV"
      },
      "source": [
        "#### 51. Create a structured array representing a position (x,y) and a color (r,g,b) (★★☆) \n",
        "(**hint**: dtype)"
      ]
    },
    {
      "cell_type": "code",
      "execution_count": 235,
      "metadata": {
        "id": "33orfEc7qJeW",
        "colab": {
          "base_uri": "https://localhost:8080/"
        },
        "outputId": "17098890-649f-43a6-9d37-0041d0c38c37"
      },
      "outputs": [
        {
          "output_type": "stream",
          "name": "stdout",
          "text": [
            "[((0., 0.), (0., 0., 0.)) ((0., 0.), (0., 0., 0.))\n",
            " ((0., 0.), (0., 0., 0.)) ((0., 0.), (0., 0., 0.))\n",
            " ((0., 0.), (0., 0., 0.)) ((0., 0.), (0., 0., 0.))\n",
            " ((0., 0.), (0., 0., 0.)) ((0., 0.), (0., 0., 0.))\n",
            " ((0., 0.), (0., 0., 0.)) ((0., 0.), (0., 0., 0.))]\n"
          ]
        }
      ],
      "source": [
        "Z = np.zeros(10, [ ('position', [ ('x', float),\n",
        "                                  ('y', float)]),\n",
        "                   ('color',    [ ('r', float),\n",
        "                                  ('g', float),\n",
        "                                  ('b', float)])])\n",
        "print(Z)"
      ]
    },
    {
      "cell_type": "markdown",
      "metadata": {
        "id": "vrKJOl4SqJeX"
      },
      "source": [
        "#### 52. Consider a random vector with shape (100,2) representing coordinates, find point by point distances (★★☆) \n",
        "(**hint**: np.atleast\\_2d, T, np.sqrt)"
      ]
    },
    {
      "cell_type": "code",
      "execution_count": 8,
      "metadata": {
        "id": "SJu9bBihqJeY",
        "colab": {
          "base_uri": "https://localhost:8080/"
        },
        "outputId": "4c515646-cc68-4d99-e9d4-180532cdcd7f"
      },
      "outputs": [
        {
          "output_type": "stream",
          "name": "stdout",
          "text": [
            "[[0.         0.62611826 0.89445056 ... 0.90159636 0.30786081 0.30584157]\n",
            " [0.62611826 0.         0.89820119 ... 0.70308351 0.5434814  0.84262992]\n",
            " [0.89445056 0.89820119 0.         ... 0.2947158  0.59319753 0.76657521]\n",
            " ...\n",
            " [0.90159636 0.70308351 0.2947158  ... 0.         0.59975997 0.87326872]\n",
            " [0.30786081 0.5434814  0.59319753 ... 0.59975997 0.         0.33268672]\n",
            " [0.30584157 0.84262992 0.76657521 ... 0.87326872 0.33268672 0.        ]]\n"
          ]
        }
      ],
      "source": [
        "A = np.random.random((100,2))\n",
        "X,Y = np.atleast_2d(A[:,0],A[:,1])\n",
        "D = np.sqrt( (X-X.T)**2 + (Y-Y.T)**2)\n",
        "print(D)"
      ]
    },
    {
      "cell_type": "markdown",
      "metadata": {
        "id": "iJwXmDd0qJeZ"
      },
      "source": [
        "#### 53. How to convert a float (32 bits) array into an integer (32 bits) in place? \n",
        "(**hint**: astype(copy=False))"
      ]
    },
    {
      "cell_type": "code",
      "execution_count": 182,
      "metadata": {
        "id": "oSFeu_bPqJea",
        "colab": {
          "base_uri": "https://localhost:8080/"
        },
        "outputId": "ab4aeaae-2c02-4082-c8f4-80bab71a472e"
      },
      "outputs": [
        {
          "output_type": "stream",
          "name": "stdout",
          "text": [
            "[0. 1. 2. 3. 4. 5. 6. 7. 8. 9.]\n",
            "[0 1 2 3 4 5 6 7 8 9]\n"
          ]
        }
      ],
      "source": [
        "x = np.arange(10, dtype=np.float32)\n",
        "print(x)\n",
        "x=x.astype(np.int32, copy=False)\n",
        "print(x)"
      ]
    },
    {
      "cell_type": "markdown",
      "metadata": {
        "id": "cAdj27YSqJea"
      },
      "source": [
        "#### 54. How to read the following file? (★★☆) \n",
        "(**hint**: np.genfromtxt)"
      ]
    },
    {
      "cell_type": "markdown",
      "metadata": {
        "id": "wU_fk2bKqJeb"
      },
      "source": [
        "```\n",
        "1, 2, 3, 4, 5\n",
        "6,  ,  , 7, 8\n",
        " ,  , 9,10,11\n",
        "```"
      ]
    },
    {
      "cell_type": "code",
      "execution_count": 9,
      "metadata": {
        "id": "8zTgAm-pqJee",
        "colab": {
          "base_uri": "https://localhost:8080/"
        },
        "outputId": "c457b760-4c3e-499a-eca3-b10637eecb17"
      },
      "outputs": [
        {
          "output_type": "stream",
          "name": "stdout",
          "text": [
            "[[ 1  2  3  4  5]\n",
            " [ 6 -1 -1  7  8]\n",
            " [-1 -1  9 10 11]]\n"
          ]
        },
        {
          "output_type": "stream",
          "name": "stderr",
          "text": [
            "<ipython-input-9-ed43b76a677a>:4: DeprecationWarning: `np.int` is a deprecated alias for the builtin `int`. To silence this warning, use `int` by itself. Doing this will not modify any behavior and is safe. When replacing `np.int`, you may wish to use e.g. `np.int64` or `np.int32` to specify the precision. If you wish to review your current use, check the release note link for additional information.\n",
            "Deprecated in NumPy 1.20; for more details and guidance: https://numpy.org/devdocs/release/1.20.0-notes.html#deprecations\n",
            "  X = np.genfromtxt(f, delimiter=\",\", dtype=np.int)\n"
          ]
        }
      ],
      "source": [
        "from io import StringIO\n",
        "\n",
        "f = StringIO(\"1, 2, 3, 4, 5\\n 6,  ,  , 7, 8\\n ,  , 9,10,11\\n\")\n",
        "X = np.genfromtxt(f, delimiter=\",\", dtype=np.int)\n",
        "print(X)"
      ]
    },
    {
      "cell_type": "markdown",
      "metadata": {
        "id": "inZsN6IbqJee"
      },
      "source": [
        "#### 55. What is the equivalent of enumerate for numpy arrays? (★★☆) \n",
        "(**hint**: np.ndenumerate, np.ndindex)"
      ]
    },
    {
      "cell_type": "code",
      "execution_count": 185,
      "metadata": {
        "id": "FgNYcYvTqJef",
        "colab": {
          "base_uri": "https://localhost:8080/"
        },
        "outputId": "3c542bc4-da7d-4f32-8b03-b567e851dbaf"
      },
      "outputs": [
        {
          "output_type": "stream",
          "name": "stdout",
          "text": [
            "(0, 0) 0\n",
            "(0, 1) 1\n",
            "(1, 0) 2\n",
            "(1, 1) 3\n"
          ]
        }
      ],
      "source": [
        "x = np.arange(4).reshape(2,2)\n",
        "for index in np.ndindex(x.shape):\n",
        "    print(index, x[index])"
      ]
    },
    {
      "cell_type": "markdown",
      "metadata": {
        "id": "Sg40GmzeqJef"
      },
      "source": [
        "#### 56. Generate a generic 2D Gaussian-like array (★★☆) \n",
        "(**hint**: np.meshgrid, np.exp)"
      ]
    },
    {
      "cell_type": "code",
      "execution_count": 236,
      "metadata": {
        "id": "BKVZ5AJbqJeg",
        "colab": {
          "base_uri": "https://localhost:8080/"
        },
        "outputId": "20f46b45-5ae1-4cf8-9ec2-26e18471d27c"
      },
      "outputs": [
        {
          "output_type": "stream",
          "name": "stdout",
          "text": [
            "[[0.36787944 0.44822088 0.51979489 0.57375342 0.60279818 0.60279818\n",
            "  0.57375342 0.51979489 0.44822088 0.36787944]\n",
            " [0.44822088 0.54610814 0.63331324 0.69905581 0.73444367 0.73444367\n",
            "  0.69905581 0.63331324 0.54610814 0.44822088]\n",
            " [0.51979489 0.63331324 0.73444367 0.81068432 0.85172308 0.85172308\n",
            "  0.81068432 0.73444367 0.63331324 0.51979489]\n",
            " [0.57375342 0.69905581 0.81068432 0.89483932 0.9401382  0.9401382\n",
            "  0.89483932 0.81068432 0.69905581 0.57375342]\n",
            " [0.60279818 0.73444367 0.85172308 0.9401382  0.98773022 0.98773022\n",
            "  0.9401382  0.85172308 0.73444367 0.60279818]\n",
            " [0.60279818 0.73444367 0.85172308 0.9401382  0.98773022 0.98773022\n",
            "  0.9401382  0.85172308 0.73444367 0.60279818]\n",
            " [0.57375342 0.69905581 0.81068432 0.89483932 0.9401382  0.9401382\n",
            "  0.89483932 0.81068432 0.69905581 0.57375342]\n",
            " [0.51979489 0.63331324 0.73444367 0.81068432 0.85172308 0.85172308\n",
            "  0.81068432 0.73444367 0.63331324 0.51979489]\n",
            " [0.44822088 0.54610814 0.63331324 0.69905581 0.73444367 0.73444367\n",
            "  0.69905581 0.63331324 0.54610814 0.44822088]\n",
            " [0.36787944 0.44822088 0.51979489 0.57375342 0.60279818 0.60279818\n",
            "  0.57375342 0.51979489 0.44822088 0.36787944]]\n"
          ]
        }
      ],
      "source": [
        "sigma,myu = 1.0,0.0\n",
        "\n",
        "X,Y  = np.meshgrid(np.linspace(-1,1,10),np.linspace(-1,1,10))\n",
        "D = np.sqrt(X**2+Y**2)\n",
        "G = np.exp(-(D-myu)**2/(2*sigma**2))\n",
        "print(G)"
      ]
    },
    {
      "cell_type": "markdown",
      "metadata": {
        "id": "pQk6EUFaqJeg"
      },
      "source": [
        "#### 57. How to randomly place p elements in a 2D array? (★★☆) \n",
        "(**hint**: np.put, np.random.choice)"
      ]
    },
    {
      "cell_type": "code",
      "execution_count": 190,
      "metadata": {
        "id": "2f5ErLeeqJeg",
        "colab": {
          "base_uri": "https://localhost:8080/"
        },
        "outputId": "42224c3b-00e6-49fe-f149-3b38d2f5f77c"
      },
      "outputs": [
        {
          "output_type": "stream",
          "name": "stdout",
          "text": [
            "[[ 0. 33.  0.  0. 22.]\n",
            " [ 0.  0.  0.  0.  0.]\n",
            " [88.  0.  0. 44.  0.]\n",
            " [ 0.  0.  0. 11.  0.]\n",
            " [ 0.  0.  0.  0.  0.]]\n"
          ]
        }
      ],
      "source": [
        "n = 5\n",
        "p = 5\n",
        "x = np.zeros((n,n))\n",
        "r_c= np.random.choice(range(n*n), p, replace=False)\n",
        "np.put(x,r_c,[11,88,22,33,44,55,66,77])\n",
        "print(x)"
      ]
    },
    {
      "cell_type": "markdown",
      "metadata": {
        "id": "uF9kQIDkqJeg"
      },
      "source": [
        "#### 58. Subtract the mean of each row of a matrix (★★☆) \n",
        "(**hint**: mean(axis=,keepdims=))"
      ]
    },
    {
      "cell_type": "code",
      "execution_count": 192,
      "metadata": {
        "id": "d3Clv5jPqJeh",
        "colab": {
          "base_uri": "https://localhost:8080/"
        },
        "outputId": "60edb5fa-b150-4fed-eee5-6d191c0b3cf5"
      },
      "outputs": [
        {
          "output_type": "stream",
          "name": "stdout",
          "text": [
            "[[-0.16160269  0.3735456  -0.05982258 -0.32020821  0.16808787]\n",
            " [ 0.33067559 -0.095734   -0.40420067  0.1232254   0.04603368]]\n"
          ]
        }
      ],
      "source": [
        "X = np.random.rand(2, 5)\n",
        "Y = X - X.mean(axis=1, keepdims=True)\n",
        "print(Y)"
      ]
    },
    {
      "cell_type": "markdown",
      "metadata": {
        "id": "fdeIkb7QqJej"
      },
      "source": [
        "#### 59. How to sort an array by the nth column? (★★☆) \n",
        "(**hint**: argsort)"
      ]
    },
    {
      "cell_type": "code",
      "execution_count": 209,
      "metadata": {
        "id": "VU55xVduqJek",
        "colab": {
          "base_uri": "https://localhost:8080/"
        },
        "outputId": "05450313-b544-4c8e-c15b-705ed82f23e7"
      },
      "outputs": [
        {
          "output_type": "stream",
          "name": "stdout",
          "text": [
            "[[7 4 0]\n",
            " [5 0 6]\n",
            " [2 1 3]] \n",
            "\n",
            "[[7 4 0]\n",
            " [2 1 3]\n",
            " [5 0 6]]\n"
          ]
        }
      ],
      "source": [
        "X = np.random.randint(0,8,(3,3))\n",
        "print(X,'\\n')\n",
        "print(X[X[:,2].argsort()])"
      ]
    },
    {
      "cell_type": "markdown",
      "metadata": {
        "id": "VXEE0aLtqJek"
      },
      "source": [
        "#### 60. How to tell if a given 2D array has null columns? (★★☆) \n",
        "(**hint**: any, ~)"
      ]
    },
    {
      "cell_type": "code",
      "execution_count": 196,
      "metadata": {
        "id": "L9GblpE6qJel",
        "colab": {
          "base_uri": "https://localhost:8080/"
        },
        "outputId": "bae66ec0-9963-4f3f-eeea-3d58d53db630"
      },
      "outputs": [
        {
          "output_type": "stream",
          "name": "stdout",
          "text": [
            "[[1 1 2 2 0 1 2 0]\n",
            " [0 0 2 1 2 0 0 0]\n",
            " [0 2 0 2 0 1 2 0]] \n",
            "\n",
            "[False False False False False False False  True] \n",
            "\n"
          ]
        }
      ],
      "source": [
        "X = np.random.randint(0,3,(3,8))\n",
        "print(X,\"\\n\")\n",
        "print((~X.any(axis=0)),\"\\n\")"
      ]
    },
    {
      "cell_type": "markdown",
      "metadata": {
        "id": "fuYMheqrqJel"
      },
      "source": [
        "#### 61. Find the nearest value from a given value in an array (★★☆) \n",
        "(**hint**: np.abs, argmin, flat)"
      ]
    },
    {
      "cell_type": "code",
      "execution_count": 198,
      "metadata": {
        "id": "LjCCPW9tqJem",
        "colab": {
          "base_uri": "https://localhost:8080/"
        },
        "outputId": "fe0ccb2f-9d32-485c-8fa7-0b8716c6eed3"
      },
      "outputs": [
        {
          "output_type": "stream",
          "name": "stdout",
          "text": [
            "[19.12847444 15.70268779 11.41513691  7.4710989  18.02447754]\n"
          ]
        },
        {
          "output_type": "execute_result",
          "data": {
            "text/plain": [
              "15.702687789589458"
            ]
          },
          "metadata": {},
          "execution_count": 198
        }
      ],
      "source": [
        "x = np.random.uniform(5,20,5)\n",
        "print(x)\n",
        "y = 15\n",
        "z = np.abs(x - y)\n",
        "index = z.argmin()\n",
        "x[index]"
      ]
    },
    {
      "cell_type": "markdown",
      "metadata": {
        "id": "0ZnFici2qJen"
      },
      "source": [
        "#### 62. Considering two arrays with shape (1,3) and (3,1), how to compute their sum using an iterator? (★★☆) \n",
        "(**hint**: np.nditer)"
      ]
    },
    {
      "cell_type": "code",
      "execution_count": 200,
      "metadata": {
        "id": "19DTD0SpqJen",
        "colab": {
          "base_uri": "https://localhost:8080/"
        },
        "outputId": "30730df9-9ba2-4642-d882-977fecdc4d6d"
      },
      "outputs": [
        {
          "output_type": "stream",
          "name": "stdout",
          "text": [
            "[[0 1 2]\n",
            " [1 2 3]\n",
            " [2 3 4]]\n"
          ]
        }
      ],
      "source": [
        "A = np.arange(3).reshape(1,3)\n",
        "B = np.arange(3).reshape(3,1)\n",
        "iterator = np.nditer([A,B,None])\n",
        "for x,y,z in iterator: z[...] = x + y\n",
        "print(iterator.operands[2])"
      ]
    },
    {
      "cell_type": "markdown",
      "metadata": {
        "id": "ML9lcF-bqJen"
      },
      "source": [
        "#### 63. Create an array class that has a name attribute (★★☆) \n",
        "(**hint**: class method)"
      ]
    },
    {
      "cell_type": "code",
      "execution_count": null,
      "metadata": {
        "id": "2xDbaIB-qJer"
      },
      "outputs": [],
      "source": []
    },
    {
      "cell_type": "markdown",
      "metadata": {
        "id": "EuoAlTT1qJew"
      },
      "source": [
        "#### 64. Consider a given vector, how to add 1 to each element indexed by a second vector (be careful with repeated indices)? (★★★) \n",
        "(**hint**: np.bincount | np.add.at)"
      ]
    },
    {
      "cell_type": "code",
      "execution_count": 238,
      "metadata": {
        "id": "Ify5Tp_5qJew"
      },
      "outputs": [],
      "source": [
        "#not able to understand question"
      ]
    },
    {
      "cell_type": "markdown",
      "metadata": {
        "id": "uM_9eSc-qJex"
      },
      "source": [
        "#### 65. How to accumulate elements of a vector (X) to an array (F) based on an index list (I)? (★★★) \n",
        "(**hint**: np.bincount)"
      ]
    },
    {
      "cell_type": "code",
      "execution_count": null,
      "metadata": {
        "id": "_s8vFFvGqJey"
      },
      "outputs": [],
      "source": []
    },
    {
      "cell_type": "markdown",
      "metadata": {
        "id": "025SFKEwqJez"
      },
      "source": [
        "#### 66. Considering a (w,h,3) image of (dtype=ubyte), compute the number of unique colors (★★★) \n",
        "(**hint**: np.unique)"
      ]
    },
    {
      "cell_type": "code",
      "execution_count": null,
      "metadata": {
        "id": "OifJTEnIqJe0"
      },
      "outputs": [],
      "source": []
    },
    {
      "cell_type": "markdown",
      "metadata": {
        "id": "YHXDTgkbqJe1"
      },
      "source": [
        "#### 67. Considering a four dimensions array, how to get sum over the last two axis at once? (★★★) \n",
        "(**hint**: sum(axis=(-2,-1)))"
      ]
    },
    {
      "cell_type": "code",
      "execution_count": 10,
      "metadata": {
        "id": "tDL88vGxqJfT",
        "colab": {
          "base_uri": "https://localhost:8080/"
        },
        "outputId": "6b950fdd-4e42-45c1-e08d-02701161fa01"
      },
      "outputs": [
        {
          "output_type": "stream",
          "name": "stdout",
          "text": [
            "[[54 51 62 54]\n",
            " [53 45 66 44]\n",
            " [59 53 41 50]]\n"
          ]
        }
      ],
      "source": [
        "X = np.random.randint(0,10,(3,4,3,4)) \n",
        "sum = X.sum(axis=(-2,-1))\n",
        "print(sum)"
      ]
    },
    {
      "cell_type": "markdown",
      "metadata": {
        "id": "C3ZT3HiNqJfU"
      },
      "source": [
        "#### 68. Considering a one-dimensional vector D, how to compute means of subsets of D using a vector S of same size describing subset  indices? (★★★) \n",
        "(**hint**: np.bincount)"
      ]
    },
    {
      "cell_type": "code",
      "execution_count": null,
      "metadata": {
        "id": "c7wai_RXqJfU"
      },
      "outputs": [],
      "source": []
    },
    {
      "cell_type": "markdown",
      "metadata": {
        "id": "uqEC7KCbqJfV"
      },
      "source": [
        "#### 69. How to get the diagonal of a dot product? (★★★) \n",
        "(**hint**: np.diag)"
      ]
    },
    {
      "cell_type": "code",
      "execution_count": 212,
      "metadata": {
        "id": "g1kykKx4qJfV",
        "colab": {
          "base_uri": "https://localhost:8080/"
        },
        "outputId": "0c1e570f-5569-42a4-8797-2fd7535477b0"
      },
      "outputs": [
        {
          "output_type": "stream",
          "name": "stdout",
          "text": [
            "[[0.86218495 0.2424318  0.05446287]\n",
            " [0.19471372 0.95990829 0.37584801]\n",
            " [0.2716213  0.55633253 0.30641191]] \n",
            "\n",
            "[[0.74419614 0.36134128 0.78677309]\n",
            " [0.35832744 0.5214749  0.44716072]\n",
            " [0.03193109 0.26290401 0.15413749]] \n",
            "\n",
            "[[0.73024374 0.45228362 0.79514466]\n",
            " [0.50086791 0.66973813 0.64036106]\n",
            " [0.4112728  0.46881836 0.50970395]] \n",
            "\n"
          ]
        },
        {
          "output_type": "execute_result",
          "data": {
            "text/plain": [
              "array([0.73024374, 0.66973813, 0.50970395])"
            ]
          },
          "metadata": {},
          "execution_count": 212
        }
      ],
      "source": [
        "X = np.random.uniform(0,1,(3,3))\n",
        "print(X,'\\n')\n",
        "Y = np.random.uniform(0,1,(3,3))\n",
        "print(Y,'\\n')\n",
        "Z = np.dot(X,Y)\n",
        "print(Z,'\\n')\n",
        "np.diag(Z)"
      ]
    },
    {
      "cell_type": "markdown",
      "metadata": {
        "id": "-tdHs6XHqJfV"
      },
      "source": [
        "#### 70. Consider the vector \\[1, 2, 3, 4, 5\\], how to build a new vector with 3 consecutive zeros interleaved between each value? (★★★) \n",
        "(**hint**: array\\[::4\\])"
      ]
    },
    {
      "cell_type": "code",
      "execution_count": 213,
      "metadata": {
        "id": "yiemD1hoqJfW",
        "colab": {
          "base_uri": "https://localhost:8080/"
        },
        "outputId": "3e96e682-b40c-49bd-c81a-50ad912f2dbf"
      },
      "outputs": [
        {
          "output_type": "stream",
          "name": "stdout",
          "text": [
            "[1. 0. 0. 0. 2. 0. 0. 0. 3. 0. 0. 0. 4. 0. 0. 0. 5.]\n"
          ]
        }
      ],
      "source": [
        "zero = 3\n",
        "X = np.array([1,2,3,4,5])\n",
        "Y = np.zeros(len(X) + (len(X)-1)*(zero))\n",
        "Y[::zero+1] = X\n",
        "print(Y)"
      ]
    },
    {
      "cell_type": "markdown",
      "metadata": {
        "id": "YMUoqn2DqJfW"
      },
      "source": [
        "#### 71. Consider an array of dimension (5,5,3), how to mulitply it by an array with dimensions (5,5)? (★★★) \n",
        "(**hint**: array\\[:, :, None\\])"
      ]
    },
    {
      "cell_type": "code",
      "execution_count": 242,
      "metadata": {
        "collapsed": true,
        "id": "Awyi1NMSqJfX",
        "colab": {
          "base_uri": "https://localhost:8080/"
        },
        "outputId": "1a8a7394-758a-454b-9dfa-363c47122a8d"
      },
      "outputs": [
        {
          "output_type": "stream",
          "name": "stdout",
          "text": [
            "[[[6. 6. 6.]\n",
            "  [6. 6. 6.]\n",
            "  [6. 6. 6.]\n",
            "  [6. 6. 6.]\n",
            "  [6. 6. 6.]]\n",
            "\n",
            " [[6. 6. 6.]\n",
            "  [6. 6. 6.]\n",
            "  [6. 6. 6.]\n",
            "  [6. 6. 6.]\n",
            "  [6. 6. 6.]]\n",
            "\n",
            " [[6. 6. 6.]\n",
            "  [6. 6. 6.]\n",
            "  [6. 6. 6.]\n",
            "  [6. 6. 6.]\n",
            "  [6. 6. 6.]]\n",
            "\n",
            " [[6. 6. 6.]\n",
            "  [6. 6. 6.]\n",
            "  [6. 6. 6.]\n",
            "  [6. 6. 6.]\n",
            "  [6. 6. 6.]]\n",
            "\n",
            " [[6. 6. 6.]\n",
            "  [6. 6. 6.]\n",
            "  [6. 6. 6.]\n",
            "  [6. 6. 6.]\n",
            "  [6. 6. 6.]]]\n"
          ]
        }
      ],
      "source": [
        "A = 2*np.ones((5,5,3))\n",
        "B = 3*np.ones((5,5))\n",
        "print(A * B[:,:,None])"
      ]
    },
    {
      "cell_type": "markdown",
      "metadata": {
        "id": "aYOhA3LPqJfX"
      },
      "source": [
        "#### 72. How to swap two rows of an array? (★★★) \n",
        "(**hint**: array\\[\\[\\]\\] = array\\[\\[\\]\\])"
      ]
    },
    {
      "cell_type": "code",
      "execution_count": 204,
      "metadata": {
        "id": "pxq8tQT_qJfX",
        "colab": {
          "base_uri": "https://localhost:8080/"
        },
        "outputId": "880b2090-8ef3-4a0c-de6c-39b946645c70"
      },
      "outputs": [
        {
          "output_type": "stream",
          "name": "stdout",
          "text": [
            "[[0 1 2]\n",
            " [3 4 5]\n",
            " [6 7 8]]\n",
            "\n",
            " [[3 4 5]\n",
            " [0 1 2]\n",
            " [6 7 8]]\n"
          ]
        }
      ],
      "source": [
        "X = np.arange(9).reshape(3,3)\n",
        "print(X)\n",
        "X[[0,1]] = X[[1,0]]\n",
        "print(\"\\n\",X)\n"
      ]
    },
    {
      "cell_type": "markdown",
      "metadata": {
        "id": "0PG8zSLwqJfY"
      },
      "source": [
        "#### 73. Consider a set of 10 triplets describing 10 triangles (with shared vertices), find the set of unique line segments composing all the  triangles (★★★) \n",
        "(**hint**: repeat, np.roll, np.sort, view, np.unique)"
      ]
    },
    {
      "cell_type": "code",
      "execution_count": null,
      "metadata": {
        "id": "wk3NumWOqJfY"
      },
      "outputs": [],
      "source": []
    },
    {
      "cell_type": "markdown",
      "metadata": {
        "id": "PFB0lguuqJfZ"
      },
      "source": [
        "#### 74. Given an array C that is a bincount, how to produce an array A such that np.bincount(A) == C? (★★★) \n",
        "(**hint**: np.repeat)"
      ]
    },
    {
      "cell_type": "code",
      "execution_count": 243,
      "metadata": {
        "id": "hfu9hYojqJfZ",
        "colab": {
          "base_uri": "https://localhost:8080/"
        },
        "outputId": "11bfe891-15a9-4898-fee2-a3707c450628"
      },
      "outputs": [
        {
          "output_type": "stream",
          "name": "stdout",
          "text": [
            "[0 1 2 3 4 5 6 7 9]\n"
          ]
        }
      ],
      "source": [
        "C = np.bincount([0,1,5,2,3,6,4,7,9])\n",
        "A = np.repeat(np.arange(len(C)), C)\n",
        "print(A)"
      ]
    },
    {
      "cell_type": "markdown",
      "metadata": {
        "id": "XoPfnih0qJfZ"
      },
      "source": [
        "#### 75. How to compute averages using a sliding window over an array? (★★★) \n",
        "(**hint**: np.cumsum)"
      ]
    },
    {
      "cell_type": "code",
      "execution_count": 248,
      "metadata": {
        "id": "e_R0uaRcqJfb",
        "colab": {
          "base_uri": "https://localhost:8080/"
        },
        "outputId": "f85062e6-1166-4c2b-8265-0d564db66da9"
      },
      "outputs": [
        {
          "output_type": "stream",
          "name": "stdout",
          "text": [
            "[0 1 2 3 4 5 6 7 8 9]\n",
            "[0.5 1.5 2.5 3.5 4.5 5.5 6.5 7.5 8.5]\n"
          ]
        }
      ],
      "source": [
        "from numpy.lib.stride_tricks import sliding_window_view\n",
        "\n",
        "Z = np.arange(10)\n",
        "print(Z)\n",
        "print(sliding_window_view(Z, window_shape=2).mean(axis=-1))"
      ]
    },
    {
      "cell_type": "markdown",
      "metadata": {
        "id": "EiV5z-t9qJfb"
      },
      "source": [
        "#### 76. Consider a one-dimensional array Z, build a two-dimensional array whose first row is (Z\\[0\\],Z\\[1\\],Z\\[2\\]) and each subsequent row is  shifted by 1 (last row should be (Z\\[-3\\],Z\\[-2\\],Z\\[-1\\]) (★★★) \n",
        "(**hint**: from numpy.lib import stride_tricks)"
      ]
    },
    {
      "cell_type": "code",
      "execution_count": null,
      "metadata": {
        "id": "kscLsG5FqJfc"
      },
      "outputs": [],
      "source": []
    },
    {
      "cell_type": "markdown",
      "metadata": {
        "id": "rUcP87IRqJfc"
      },
      "source": [
        "#### 77. How to negate a boolean, or to change the sign of a float inplace? (★★★) \n",
        "(**hint**: np.logical_not, np.negative)"
      ]
    },
    {
      "cell_type": "code",
      "execution_count": 219,
      "metadata": {
        "id": "FsiIUlyCqJfc",
        "colab": {
          "base_uri": "https://localhost:8080/"
        },
        "outputId": "7067ad67-f7e2-4098-9aa4-84a048fb9d8e"
      },
      "outputs": [
        {
          "output_type": "stream",
          "name": "stdout",
          "text": [
            "[0 0 1 0 0 1 1 0 0 0] \n",
            "\n",
            "[1 1 0 1 1 0 0 1 1 1]\n"
          ]
        }
      ],
      "source": [
        "# negating a boolean\n",
        "x = np.random.randint(0,2,10)\n",
        "print(x,'\\n')\n",
        "print(np.logical_not(x, out=x))"
      ]
    },
    {
      "cell_type": "markdown",
      "metadata": {
        "id": "MQ1ooYOnqJfd"
      },
      "source": [
        "#### 78. Consider 2 sets of points P0,P1 describing lines (2d) and a point p, how to compute distance from p to each line i  (P0\\[i\\],P1\\[i\\])? (★★★)"
      ]
    },
    {
      "cell_type": "code",
      "execution_count": null,
      "metadata": {
        "id": "lAF898qlqJfd"
      },
      "outputs": [],
      "source": []
    },
    {
      "cell_type": "markdown",
      "metadata": {
        "id": "doyeMue3qJfe"
      },
      "source": [
        "#### 79. Consider 2 sets of points P0,P1 describing lines (2d) and a set of points P, how to compute distance from each point j (P\\[j\\]) to each line i (P0\\[i\\],P1\\[i\\])? (★★★)"
      ]
    },
    {
      "cell_type": "code",
      "execution_count": null,
      "metadata": {
        "id": "NsmUoLUzqJff"
      },
      "outputs": [],
      "source": []
    },
    {
      "cell_type": "markdown",
      "metadata": {
        "id": "7GOvryquqJff"
      },
      "source": [
        "#### 80. Consider an arbitrary array, write a function that extract a subpart with a fixed shape and centered on a given element (pad with a `fill` value when necessary) (★★★) \n",
        "(**hint**: minimum, maximum)"
      ]
    },
    {
      "cell_type": "code",
      "execution_count": null,
      "metadata": {
        "id": "uJc08rIyqJff"
      },
      "outputs": [],
      "source": []
    },
    {
      "cell_type": "markdown",
      "metadata": {
        "id": "gZyErXx3qJfg"
      },
      "source": [
        "#### 81. Consider an array Z = \\[1,2,3,4,5,6,7,8,9,10,11,12,13,14\\], how to generate an array R = \\[\\[1,2,3,4\\], \\[2,3,4,5\\], \\[3,4,5,6\\], ..., \\[11,12,13,14\\]\\]? (★★★) \n",
        "(**hint**: stride\\_tricks.as\\_strided)"
      ]
    },
    {
      "cell_type": "code",
      "execution_count": 12,
      "metadata": {
        "id": "PkkMuuDLqJfg",
        "colab": {
          "base_uri": "https://localhost:8080/"
        },
        "outputId": "456d54dd-5f00-41ac-fdfb-f69920749e73"
      },
      "outputs": [
        {
          "output_type": "stream",
          "name": "stdout",
          "text": [
            "[[ 1  2  3  4]\n",
            " [ 2  3  4  5]\n",
            " [ 3  4  5  6]\n",
            " [ 4  5  6  7]\n",
            " [ 5  6  7  8]\n",
            " [ 6  7  8  9]\n",
            " [ 7  8  9 10]\n",
            " [ 8  9 10 11]\n",
            " [ 9 10 11 12]\n",
            " [10 11 12 13]\n",
            " [11 12 13 14]]\n"
          ]
        }
      ],
      "source": [
        "from numpy.lib.stride_tricks import sliding_window_view\n",
        "X = np.arange(1, 15, dtype=int)\n",
        "print(sliding_window_view(X, window_shape=4))"
      ]
    },
    {
      "cell_type": "markdown",
      "metadata": {
        "id": "urmq5i3VqJfg"
      },
      "source": [
        "#### 82. Compute a matrix rank (★★★) \n",
        "(**hint**: np.linalg.svd) (suggestion: np.linalg.svd)"
      ]
    },
    {
      "cell_type": "code",
      "execution_count": 222,
      "metadata": {
        "id": "hGM4FLZdqJfh",
        "colab": {
          "base_uri": "https://localhost:8080/"
        },
        "outputId": "81572482-6e7d-4659-dfb6-8f8d7a5d3c66"
      },
      "outputs": [
        {
          "output_type": "stream",
          "name": "stdout",
          "text": [
            "5\n"
          ]
        }
      ],
      "source": [
        "Z = np.random.randint(1,5,(5,5))\n",
        "rank = np.linalg.matrix_rank(Z)\n",
        "print(rank)"
      ]
    },
    {
      "cell_type": "markdown",
      "metadata": {
        "id": "ATOd3Ta0qJfh"
      },
      "source": [
        "#### 83. How to find the most frequent value in an array? \n",
        "(**hint**: np.bincount, argmax)"
      ]
    },
    {
      "cell_type": "code",
      "execution_count": 225,
      "metadata": {
        "id": "IdoTvW_lqJfh",
        "colab": {
          "base_uri": "https://localhost:8080/"
        },
        "outputId": "06262263-28f6-41b0-b241-00f6299cd5d2"
      },
      "outputs": [
        {
          "output_type": "stream",
          "name": "stdout",
          "text": [
            "[2 3 4 0 4 1 0 3 2 4]\n",
            "4\n"
          ]
        }
      ],
      "source": [
        "x = np.random.randint(0,5,10)\n",
        "print(x)\n",
        "print(np.bincount(x).argmax())"
      ]
    },
    {
      "cell_type": "markdown",
      "metadata": {
        "id": "SfRq_RnGqJfi"
      },
      "source": [
        "#### 84. Extract all the contiguous 3x3 blocks from a random 10x10 matrix (★★★) \n",
        "(**hint**: stride\\_tricks.as\\_strided)"
      ]
    },
    {
      "cell_type": "code",
      "execution_count": null,
      "metadata": {
        "id": "Irtl8pLfqJfo"
      },
      "outputs": [],
      "source": []
    },
    {
      "cell_type": "markdown",
      "metadata": {
        "id": "dJazH9sRqJf0"
      },
      "source": [
        "#### 85. Create a 2D array subclass such that Z\\[i,j\\] == Z\\[j,i\\] (★★★) \n",
        "(**hint**: class method)"
      ]
    },
    {
      "cell_type": "code",
      "execution_count": null,
      "metadata": {
        "id": "EmzkEDnOqJg5"
      },
      "outputs": [],
      "source": []
    },
    {
      "cell_type": "markdown",
      "metadata": {
        "id": "cHFga-mVqJg8"
      },
      "source": [
        "#### 86. Consider a set of p matrices wich shape (n,n) and a set of p vectors with shape (n,1). How to compute the sum of of the p matrix products at once? (result has shape (n,1)) (★★★) \n",
        "(**hint**: np.tensordot)"
      ]
    },
    {
      "cell_type": "code",
      "execution_count": null,
      "metadata": {
        "id": "ZkG5X71EqJg9"
      },
      "outputs": [],
      "source": []
    },
    {
      "cell_type": "markdown",
      "metadata": {
        "id": "M5rOQlImqJg9"
      },
      "source": [
        "#### 87. Consider a 16x16 array, how to get the block-sum (block size is 4x4)? (★★★) \n",
        "(**hint**: np.add.reduceat)"
      ]
    },
    {
      "cell_type": "code",
      "execution_count": 252,
      "metadata": {
        "id": "ab_jxkJtqJg-",
        "colab": {
          "base_uri": "https://localhost:8080/"
        },
        "outputId": "79ed8709-2297-4ce4-ab28-358bfcafad86"
      },
      "outputs": [
        {
          "output_type": "stream",
          "name": "stdout",
          "text": [
            "[[2. 2. 2. 2. 2. 2. 2. 2. 2. 2. 2. 2. 2. 2. 2. 2.]\n",
            " [2. 2. 2. 2. 2. 2. 2. 2. 2. 2. 2. 2. 2. 2. 2. 2.]\n",
            " [2. 2. 2. 2. 2. 2. 2. 2. 2. 2. 2. 2. 2. 2. 2. 2.]\n",
            " [2. 2. 2. 2. 2. 2. 2. 2. 2. 2. 2. 2. 2. 2. 2. 2.]\n",
            " [2. 2. 2. 2. 2. 2. 2. 2. 2. 2. 2. 2. 2. 2. 2. 2.]\n",
            " [2. 2. 2. 2. 2. 2. 2. 2. 2. 2. 2. 2. 2. 2. 2. 2.]\n",
            " [2. 2. 2. 2. 2. 2. 2. 2. 2. 2. 2. 2. 2. 2. 2. 2.]\n",
            " [2. 2. 2. 2. 2. 2. 2. 2. 2. 2. 2. 2. 2. 2. 2. 2.]\n",
            " [2. 2. 2. 2. 2. 2. 2. 2. 2. 2. 2. 2. 2. 2. 2. 2.]\n",
            " [2. 2. 2. 2. 2. 2. 2. 2. 2. 2. 2. 2. 2. 2. 2. 2.]\n",
            " [2. 2. 2. 2. 2. 2. 2. 2. 2. 2. 2. 2. 2. 2. 2. 2.]\n",
            " [2. 2. 2. 2. 2. 2. 2. 2. 2. 2. 2. 2. 2. 2. 2. 2.]\n",
            " [2. 2. 2. 2. 2. 2. 2. 2. 2. 2. 2. 2. 2. 2. 2. 2.]\n",
            " [2. 2. 2. 2. 2. 2. 2. 2. 2. 2. 2. 2. 2. 2. 2. 2.]\n",
            " [2. 2. 2. 2. 2. 2. 2. 2. 2. 2. 2. 2. 2. 2. 2. 2.]\n",
            " [2. 2. 2. 2. 2. 2. 2. 2. 2. 2. 2. 2. 2. 2. 2. 2.]] \n",
            "\n",
            "[[32. 32. 32. 32.]\n",
            " [32. 32. 32. 32.]\n",
            " [32. 32. 32. 32.]\n",
            " [32. 32. 32. 32.]]\n"
          ]
        }
      ],
      "source": [
        "Z = 2*np.ones((16,16))\n",
        "print(Z,'\\n')\n",
        "block = 4\n",
        "result = np.add.reduceat(np.add.reduceat(Z, np.arange(0, Z.shape[0], block), axis=0),\n",
        "                                       np.arange(0, Z.shape[1], block), axis=1)\n",
        "\n",
        "print(result)"
      ]
    },
    {
      "cell_type": "markdown",
      "metadata": {
        "id": "nUrPp1b7qJg_"
      },
      "source": [
        "#### 88. How to implement the Game of Life using numpy arrays? (★★★)"
      ]
    },
    {
      "cell_type": "code",
      "execution_count": null,
      "metadata": {
        "id": "soar0Ze2qJg_"
      },
      "outputs": [],
      "source": []
    },
    {
      "cell_type": "markdown",
      "metadata": {
        "id": "X45N896EqJhA"
      },
      "source": [
        "#### 89. How to get the n largest values of an array (★★★) \n",
        "(**hint**: np.argsort | np.argpartition)"
      ]
    },
    {
      "cell_type": "code",
      "execution_count": 228,
      "metadata": {
        "id": "d_bjHz7lqJhB",
        "colab": {
          "base_uri": "https://localhost:8080/"
        },
        "outputId": "dd58417e-ad83-43ef-f64c-9602b2f1ad10"
      },
      "outputs": [
        {
          "output_type": "stream",
          "name": "stdout",
          "text": [
            "[25 26 27 28 29]\n"
          ]
        }
      ],
      "source": [
        "Z = np.arange(30)\n",
        "np.random.shuffle(Z)\n",
        "n = 5\n",
        "print(Z[np.argsort(Z)[-n:]])"
      ]
    },
    {
      "cell_type": "markdown",
      "metadata": {
        "id": "WbemkGsXqJhC"
      },
      "source": [
        "#### 90. Given an arbitrary number of vectors, build the cartesian product (every combinations of every item) (★★★) \n",
        "(**hint**: np.indices)"
      ]
    },
    {
      "cell_type": "code",
      "execution_count": null,
      "metadata": {
        "scrolled": true,
        "id": "NQkpzVbzqJhC"
      },
      "outputs": [],
      "source": []
    },
    {
      "cell_type": "markdown",
      "metadata": {
        "id": "z46jDD90qJhD"
      },
      "source": [
        "#### 91. How to create a record array from a regular array? (★★★) \n",
        "(**hint**: np.core.records.fromarrays)"
      ]
    },
    {
      "cell_type": "code",
      "execution_count": 253,
      "metadata": {
        "id": "BdIpSyeSqJhE",
        "colab": {
          "base_uri": "https://localhost:8080/"
        },
        "outputId": "429c30af-e80f-4601-9832-b809dd28262a"
      },
      "outputs": [
        {
          "output_type": "stream",
          "name": "stdout",
          "text": [
            "[(b'Dhayan', 2.5, 3) (b'Shariff', 3.6, 2)]\n"
          ]
        }
      ],
      "source": [
        "X = np.array([(\"Dhayan\", 2.5, 3),\n",
        "              (\"Shariff\", 3.6, 2)])\n",
        "Rec_Array = np.core.records.fromarrays(X.T,\n",
        "                               names='col1, col2, col3',\n",
        "                               formats = 'S8, f8, i8')\n",
        "print(Rec_Array)"
      ]
    },
    {
      "cell_type": "markdown",
      "metadata": {
        "id": "W89r-GFoqJhE"
      },
      "source": [
        "#### 92. Consider a large vector Z, compute Z to the power of 3 using 3 different methods (★★★) \n",
        "(**hint**: np.power, \\*, np.einsum)"
      ]
    },
    {
      "cell_type": "code",
      "execution_count": 234,
      "metadata": {
        "id": "9KvXYwZ4qJhF",
        "colab": {
          "base_uri": "https://localhost:8080/"
        },
        "outputId": "423a138b-0cc6-40b9-d2e4-de87a1c2603d"
      },
      "outputs": [
        {
          "output_type": "stream",
          "name": "stdout",
          "text": [
            "[0 1 4]\n",
            "[ 0  1 64] \n",
            "\n",
            "[ 0  1 64] \n",
            "\n",
            "[ 0  1 64] \n",
            "\n"
          ]
        }
      ],
      "source": [
        "x = np.random.randint((1,5,10))\n",
        "print(x)\n",
        "print(np.power(x,3),'\\n')\n",
        "print(x*x*x,'\\n')\n",
        "print(np.einsum('i,i,i->i',x,x,x),'\\n')"
      ]
    },
    {
      "cell_type": "markdown",
      "metadata": {
        "id": "RN_MtaKrqJhF"
      },
      "source": [
        "#### 93. Consider two arrays A and B of shape (8,3) and (2,2). How to find rows of A that contain elements of each row of B regardless of the order of the elements in B? (★★★) \n",
        "(**hint**: np.where)"
      ]
    },
    {
      "cell_type": "code",
      "execution_count": null,
      "metadata": {
        "id": "BAgonqaiqJhG"
      },
      "outputs": [],
      "source": []
    },
    {
      "cell_type": "markdown",
      "metadata": {
        "id": "0RaDcevKqJhG"
      },
      "source": [
        "#### 94. Considering a 10x3 matrix, extract rows with unequal values (e.g. \\[2,2,3\\]) (★★★)"
      ]
    },
    {
      "cell_type": "code",
      "execution_count": null,
      "metadata": {
        "id": "G89DlzsGqJhG"
      },
      "outputs": [],
      "source": []
    },
    {
      "cell_type": "markdown",
      "metadata": {
        "id": "8qn_QQeeqJhH"
      },
      "source": [
        "#### 95. Convert a vector of ints into a matrix binary representation (★★★) \n",
        "(**hint**: np.unpackbits)"
      ]
    },
    {
      "cell_type": "code",
      "execution_count": 254,
      "metadata": {
        "id": "9u6U6LhOqJhH",
        "colab": {
          "base_uri": "https://localhost:8080/"
        },
        "outputId": "a841f996-4f78-4f66-f7dc-f1a08cd5a61d"
      },
      "outputs": [
        {
          "output_type": "stream",
          "name": "stdout",
          "text": [
            "[[0 0 0 0 0 0 0 0]\n",
            " [0 0 0 0 0 0 0 1]\n",
            " [0 0 0 0 0 0 1 0]\n",
            " [0 0 0 0 0 0 1 1]\n",
            " [0 0 0 1 0 0 0 1]\n",
            " [0 0 0 1 1 0 0 1]\n",
            " [0 0 0 1 1 0 1 1]\n",
            " [0 0 1 0 0 0 0 0]\n",
            " [0 1 0 0 0 0 0 1]\n",
            " [1 0 0 0 0 0 0 0]]\n"
          ]
        }
      ],
      "source": [
        "X = np.array([0, 1, 2, 3, 17, 25, 27, 32, 65, 128], dtype=np.uint8)\n",
        "print(np.unpackbits(X[:, np.newaxis], axis=1))"
      ]
    },
    {
      "cell_type": "markdown",
      "metadata": {
        "id": "6RPsAtyBqJhH"
      },
      "source": [
        "#### 96. Given a two dimensional array, how to extract unique rows? (★★★) \n",
        "(**hint**: np.ascontiguousarray)"
      ]
    },
    {
      "cell_type": "code",
      "execution_count": 259,
      "metadata": {
        "id": "al1sMQrfqJhI",
        "colab": {
          "base_uri": "https://localhost:8080/"
        },
        "outputId": "42fe704f-4a6e-4470-dc54-6750822a64d0"
      },
      "outputs": [
        {
          "output_type": "stream",
          "name": "stdout",
          "text": [
            "[[0 0 0]\n",
            " [0 1 0]\n",
            " [1 0 1]\n",
            " [1 1 1]\n",
            " [1 1 1]] \n",
            "\n",
            "\n",
            "Unique rows\n",
            "[[0 0 0]\n",
            " [0 1 0]\n",
            " [1 0 1]\n",
            " [1 1 1]]\n"
          ]
        }
      ],
      "source": [
        "X = np.array([[0,0,0], [0, 1, 0], [1, 0, 1], [1, 1, 1], [1, 1, 1]])\n",
        "print(X,'\\n\\n')\n",
        "Y = np.unique(X, axis=0)\n",
        "print('Unique rows')\n",
        "print(Y)"
      ]
    },
    {
      "cell_type": "markdown",
      "metadata": {
        "id": "HxYMPx6bqJhI"
      },
      "source": [
        "#### 97. Considering 2 vectors A & B, write the einsum equivalent of inner, outer, sum, and mul function (★★★) \n",
        "(**hint**: np.einsum)"
      ]
    },
    {
      "cell_type": "code",
      "execution_count": null,
      "metadata": {
        "id": "jCGcB-qpqJhI"
      },
      "outputs": [],
      "source": []
    },
    {
      "cell_type": "markdown",
      "metadata": {
        "id": "mq456ZV0qJhJ"
      },
      "source": [
        "#### 98. Considering a path described by two vectors (X,Y), how to sample it using equidistant samples (★★★)? \n",
        "(**hint**: np.cumsum, np.interp)"
      ]
    },
    {
      "cell_type": "code",
      "execution_count": null,
      "metadata": {
        "collapsed": true,
        "id": "_7RXI8eMqJhJ"
      },
      "outputs": [],
      "source": []
    },
    {
      "cell_type": "markdown",
      "metadata": {
        "id": "KKdkGS9yqJhJ"
      },
      "source": [
        "#### 99. Given an integer n and a 2D array X, select from X the rows which can be interpreted as draws from a multinomial distribution with n degrees, i.e., the rows which only contain integers and which sum to n. (★★★) \n",
        "(**hint**: np.logical\\_and.reduce, np.mod)"
      ]
    },
    {
      "cell_type": "code",
      "execution_count": null,
      "metadata": {
        "id": "jmsNYWS9qJhK"
      },
      "outputs": [],
      "source": []
    },
    {
      "cell_type": "markdown",
      "metadata": {
        "id": "MZ7-QZ3PqJhK"
      },
      "source": [
        "#### 100. Compute bootstrapped 95% confidence intervals for the mean of a 1D array X (i.e., resample the elements of an array with replacement N times, compute the mean of each sample, and then compute percentiles over the means). (★★★) \n",
        "(**hint**: np.percentile)"
      ]
    },
    {
      "cell_type": "code",
      "execution_count": null,
      "metadata": {
        "id": "a9l50R5HqJhK"
      },
      "outputs": [],
      "source": []
    }
  ],
  "metadata": {
    "kernelspec": {
      "display_name": "Python 3",
      "language": "python",
      "name": "python3"
    },
    "language_info": {
      "codemirror_mode": {
        "name": "ipython",
        "version": 3
      },
      "file_extension": ".py",
      "mimetype": "text/x-python",
      "name": "python",
      "nbconvert_exporter": "python",
      "pygments_lexer": "ipython3",
      "version": "3.8.3"
    },
    "colab": {
      "provenance": [],
      "include_colab_link": true
    }
  },
  "nbformat": 4,
  "nbformat_minor": 0
}